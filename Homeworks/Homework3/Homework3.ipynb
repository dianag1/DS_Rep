{
 "cells": [
  {
   "cell_type": "markdown",
   "metadata": {},
   "source": [
    "# SYD DAT 7 - Clustering and Trees\n",
    "\n",
    "* For the following, continue to use the github repository you made for your project\n",
    "* You don't have to use the same data that you used from the previous homework assignment if\n",
    "  you have decided to change what your project is about.\n",
    "* Identify some attributes where you would expect clustering to be successful.\n",
    "* Try two or more different clustering algorithms, and experiment with\n",
    "  different numbers of clusters.\n",
    "* If the clustering works well, try to give descriptive names for the\n",
    "  different clusters you have found. If the clustering isn't\n",
    "  successful, try to hypothesise why your data is some homogenous (and\n",
    "  try clustering on different attributes).\n",
    "* Try building decision trees on your data. If you think simplicity\n",
    "  would be good, try to make it as simple as possible. If you think\n",
    "  accuracy is more important, use ensembling or any other techniques\n",
    "  that you have learned.\n",
    "* Evaluate the success of your model (you can use another model from another\n",
    "  assigment if this doesn't work well).\n",
    "\n"
   ]
  },
  {
   "cell_type": "markdown",
   "metadata": {},
   "source": [
    "##### I am using the data from the previous assignment\n",
    "\n",
    "The data is related to Car Expenses. It has 2899 records and 9 categories."
   ]
  },
  {
   "cell_type": "code",
   "execution_count": 174,
   "metadata": {
    "collapsed": false
   },
   "outputs": [
    {
     "data": {
      "text/html": [
       "<div>\n",
       "<table border=\"1\" class=\"dataframe\">\n",
       "  <thead>\n",
       "    <tr style=\"text-align: right;\">\n",
       "      <th></th>\n",
       "      <th>GROUP</th>\n",
       "      <th>ID_ACC</th>\n",
       "      <th>SUB_GROUP</th>\n",
       "      <th>ID_SUP</th>\n",
       "      <th>ID_JOU</th>\n",
       "      <th>MONTH</th>\n",
       "      <th>SOURCE</th>\n",
       "      <th>REF</th>\n",
       "      <th>DESC</th>\n",
       "      <th>AUX1</th>\n",
       "      <th>DB</th>\n",
       "      <th>ID_CC</th>\n",
       "      <th>CATEGORY</th>\n",
       "      <th>VALUE</th>\n",
       "      <th>COUNT</th>\n",
       "    </tr>\n",
       "  </thead>\n",
       "  <tbody>\n",
       "    <tr>\n",
       "      <th>0</th>\n",
       "      <td>CAR EXPENSES</td>\n",
       "      <td>62201115</td>\n",
       "      <td>210</td>\n",
       "      <td>P00000939</td>\n",
       "      <td>TES</td>\n",
       "      <td>8</td>\n",
       "      <td>SAP</td>\n",
       "      <td>0050003753</td>\n",
       "      <td>KR- 006 REEMBOLSO AGO 28</td>\n",
       "      <td>006</td>\n",
       "      <td>PPP</td>\n",
       "      <td>6578</td>\n",
       "      <td>210-006</td>\n",
       "      <td>2</td>\n",
       "      <td>1</td>\n",
       "    </tr>\n",
       "    <tr>\n",
       "      <th>1</th>\n",
       "      <td>CAR EXPENSES</td>\n",
       "      <td>62201916</td>\n",
       "      <td>210</td>\n",
       "      <td>P00001179</td>\n",
       "      <td>NOM</td>\n",
       "      <td>1</td>\n",
       "      <td>ADP</td>\n",
       "      <td>103</td>\n",
       "      <td>Gasolina</td>\n",
       "      <td>na</td>\n",
       "      <td>PPP</td>\n",
       "      <td>6578</td>\n",
       "      <td>210-001</td>\n",
       "      <td>8</td>\n",
       "      <td>1</td>\n",
       "    </tr>\n",
       "    <tr>\n",
       "      <th>2</th>\n",
       "      <td>CAR EXPENSES</td>\n",
       "      <td>62201916</td>\n",
       "      <td>210</td>\n",
       "      <td>P00001179</td>\n",
       "      <td>NOM</td>\n",
       "      <td>2</td>\n",
       "      <td>ADP</td>\n",
       "      <td>104</td>\n",
       "      <td>Gasolina</td>\n",
       "      <td>na</td>\n",
       "      <td>PPP</td>\n",
       "      <td>6578</td>\n",
       "      <td>210-001</td>\n",
       "      <td>8</td>\n",
       "      <td>1</td>\n",
       "    </tr>\n",
       "    <tr>\n",
       "      <th>3</th>\n",
       "      <td>CAR EXPENSES</td>\n",
       "      <td>62201916</td>\n",
       "      <td>210</td>\n",
       "      <td>P00001179</td>\n",
       "      <td>NOM</td>\n",
       "      <td>3</td>\n",
       "      <td>ADP</td>\n",
       "      <td>104</td>\n",
       "      <td>Gasolina</td>\n",
       "      <td>na</td>\n",
       "      <td>PPP</td>\n",
       "      <td>6578</td>\n",
       "      <td>210-001</td>\n",
       "      <td>8</td>\n",
       "      <td>1</td>\n",
       "    </tr>\n",
       "    <tr>\n",
       "      <th>4</th>\n",
       "      <td>CAR EXPENSES</td>\n",
       "      <td>62201916</td>\n",
       "      <td>210</td>\n",
       "      <td>P00001179</td>\n",
       "      <td>NOM</td>\n",
       "      <td>4</td>\n",
       "      <td>ADP</td>\n",
       "      <td>103</td>\n",
       "      <td>Gasolina</td>\n",
       "      <td>na</td>\n",
       "      <td>PPP</td>\n",
       "      <td>6578</td>\n",
       "      <td>210-001</td>\n",
       "      <td>8</td>\n",
       "      <td>1</td>\n",
       "    </tr>\n",
       "  </tbody>\n",
       "</table>\n",
       "</div>"
      ],
      "text/plain": [
       "          GROUP    ID_ACC  SUB_GROUP     ID_SUP ID_JOU  MONTH SOURCE  \\\n",
       "0  CAR EXPENSES  62201115        210  P00000939    TES      8    SAP   \n",
       "1  CAR EXPENSES  62201916        210  P00001179    NOM      1    ADP   \n",
       "2  CAR EXPENSES  62201916        210  P00001179    NOM      2    ADP   \n",
       "3  CAR EXPENSES  62201916        210  P00001179    NOM      3    ADP   \n",
       "4  CAR EXPENSES  62201916        210  P00001179    NOM      4    ADP   \n",
       "\n",
       "          REF                      DESC AUX1   DB  ID_CC CATEGORY  VALUE  \\\n",
       "0  0050003753  KR- 006 REEMBOLSO AGO 28  006  PPP   6578  210-006      2   \n",
       "1         103                  Gasolina   na  PPP   6578  210-001      8   \n",
       "2         104                  Gasolina   na  PPP   6578  210-001      8   \n",
       "3         104                  Gasolina   na  PPP   6578  210-001      8   \n",
       "4         103                  Gasolina   na  PPP   6578  210-001      8   \n",
       "\n",
       "   COUNT  \n",
       "0      1  \n",
       "1      1  \n",
       "2      1  \n",
       "3      1  \n",
       "4      1  "
      ]
     },
     "execution_count": 174,
     "metadata": {},
     "output_type": "execute_result"
    }
   ],
   "source": [
    "import pandas\n",
    "import numpy\n",
    "Exp_csv = pandas.read_csv('/Users/dianagalarza/Documents/DataScience/Project/SampleData_210_610.csv')\n",
    "Exp = Exp_csv.fillna({'ID_ACC':'NA','ID_SUP':'NA', 'SOURCE':'NA', 'REF':'NA' })\n",
    "Exp.head(5)"
   ]
  },
  {
   "cell_type": "code",
   "execution_count": 175,
   "metadata": {
    "collapsed": false
   },
   "outputs": [],
   "source": [
    "Exp['ID_ACC'] = Exp['ID_ACC'].astype('category')\n",
    "Exp['SUB_GROUP'] = Exp['SUB_GROUP'].astype('category')\n",
    "Exp['MONTH'] = Exp['MONTH'].astype('category')\n",
    "Exp['ID_CC'] = Exp['ID_CC'].astype('category')"
   ]
  },
  {
   "cell_type": "code",
   "execution_count": 176,
   "metadata": {
    "collapsed": false
   },
   "outputs": [
    {
     "data": {
      "text/plain": [
       "(2899, 15)"
      ]
     },
     "execution_count": 176,
     "metadata": {},
     "output_type": "execute_result"
    }
   ],
   "source": [
    "Exp.shape"
   ]
  },
  {
   "cell_type": "code",
   "execution_count": 177,
   "metadata": {
    "collapsed": false
   },
   "outputs": [
    {
     "data": {
      "text/plain": [
       "GROUP          object\n",
       "ID_ACC       category\n",
       "SUB_GROUP    category\n",
       "ID_SUP         object\n",
       "ID_JOU         object\n",
       "MONTH        category\n",
       "SOURCE         object\n",
       "REF            object\n",
       "DESC           object\n",
       "AUX1           object\n",
       "DB             object\n",
       "ID_CC        category\n",
       "CATEGORY       object\n",
       "VALUE           int64\n",
       "COUNT           int64\n",
       "dtype: object"
      ]
     },
     "execution_count": 177,
     "metadata": {},
     "output_type": "execute_result"
    }
   ],
   "source": [
    "Exp.dtypes"
   ]
  },
  {
   "cell_type": "markdown",
   "metadata": {},
   "source": [
    "#### Some visualization first:"
   ]
  },
  {
   "cell_type": "code",
   "execution_count": 178,
   "metadata": {
    "collapsed": false
   },
   "outputs": [],
   "source": [
    "import matplotlib.pyplot as plt\n",
    "import seaborn\n",
    "%matplotlib inline"
   ]
  },
  {
   "cell_type": "code",
   "execution_count": 179,
   "metadata": {
    "collapsed": false,
    "scrolled": true
   },
   "outputs": [
    {
     "data": {
      "image/png": "[encoded data removed]",
      "text/plain": [
       "<matplotlib.figure.Figure at 0x112b22110>"
      ]
     },
     "metadata": {},
     "output_type": "display_data"
    }
   ],
   "source": [
    "# Accounts\n",
    "top_accounts = Exp.ID_ACC.value_counts()\n",
    "top_accounts[:10].plot(kind='barh')\n",
    "plt.ylabel('Accounts');"
   ]
  },
  {
   "cell_type": "code",
   "execution_count": 180,
   "metadata": {
    "collapsed": false
   },
   "outputs": [
    {
     "data": {
      "image/png": "[encoded data removed]",
      "text/plain": [
       "<matplotlib.figure.Figure at 0x1128d0c10>"
      ]
     },
     "metadata": {},
     "output_type": "display_data"
    }
   ],
   "source": [
    "# Suppliers\n",
    "top_suppliers = Exp.ID_SUP.value_counts()\n",
    "top_suppliers[:10].plot(kind='barh')\n",
    "plt.ylabel('Suppliers');"
   ]
  },
  {
   "cell_type": "code",
   "execution_count": 181,
   "metadata": {
    "collapsed": false,
    "scrolled": true
   },
   "outputs": [
    {
     "data": {
      "image/png": "[encoded data removed]",
      "text/plain": [
       "<matplotlib.figure.Figure at 0x11b107f50>"
      ]
     },
     "metadata": {},
     "output_type": "display_data"
    }
   ],
   "source": [
    "# Sources\n",
    "top_sources = Exp.SOURCE.value_counts()\n",
    "top_sources[:10].plot(kind='barh')\n",
    "plt.ylabel('Sources');"
   ]
  },
  {
   "cell_type": "code",
   "execution_count": 182,
   "metadata": {
    "collapsed": false
   },
   "outputs": [
    {
     "data": {
      "image/png": "[encoded data removed]",
      "text/plain": [
       "<matplotlib.figure.Figure at 0x119583390>"
      ]
     },
     "metadata": {},
     "output_type": "display_data"
    }
   ],
   "source": [
    "#Aux category. It could be the category, but it is not always correct.\n",
    "top_aux = Exp.AUX1.value_counts()\n",
    "top_aux[:10].plot(kind='barh')\n",
    "plt.ylabel('Aux. Categories');"
   ]
  },
  {
   "cell_type": "code",
   "execution_count": 183,
   "metadata": {
    "collapsed": false
   },
   "outputs": [
    {
     "data": {
      "image/png": "[encoded data removed]",
      "text/plain": [
       "<matplotlib.figure.Figure at 0x11aea5990>"
      ]
     },
     "metadata": {},
     "output_type": "display_data"
    }
   ],
   "source": [
    "#Descriptions\n",
    "top_descriptions = Exp.DESC.value_counts()\n",
    "top_descriptions[:20].plot(kind='barh')\n",
    "plt.ylabel('Descriptions');"
   ]
  },
  {
   "cell_type": "code",
   "execution_count": 184,
   "metadata": {
    "collapsed": false
   },
   "outputs": [
    {
     "data": {
      "image/png": "[encoded data removed]",
      "text/plain": [
       "<matplotlib.figure.Figure at 0x11b364350>"
      ]
     },
     "metadata": {},
     "output_type": "display_data"
    }
   ],
   "source": [
    "# COST CENTER\n",
    "top_cost_centers = Exp.ID_CC.value_counts()\n",
    "top_cost_centers[:20].plot(kind='barh')\n",
    "plt.ylabel('Cost Centers');"
   ]
  },
  {
   "cell_type": "markdown",
   "metadata": {},
   "source": [
    "###### selecting the attributes:\n",
    "I did a group by of all data in Excel (similar as the table below) and I got a very interesting result.  For most I did a group by of all data in Excel (similar as the table below) and I got a very interesting result.  For most cases (99%), it was possible to assign the correct category using: account, supplier, cost_center, source, and aux. For example, the account 62201922 is always related to the category  210-001 (that solves 1696 out of the 2899 data points). \n",
    "\n",
    "For this group of expenses (car expenses), there were only a couple of cases where I needed the description to assign the category.  It means there is no random selection of categories and I should be able to perform the classification :)\n",
    " \n",
    "For other groups, I will need other columns and I will need to work more with descriptions.  For this clustering and decision tree excersise this sample could work nicely. \n"
   ]
  },
  {
   "cell_type": "code",
   "execution_count": 222,
   "metadata": {
    "collapsed": false,
    "scrolled": true
   },
   "outputs": [
    {
     "data": {
      "text/html": [
       "<div>\n",
       "<table border=\"1\" class=\"dataframe\">\n",
       "  <thead>\n",
       "    <tr>\n",
       "      <th></th>\n",
       "      <th></th>\n",
       "      <th></th>\n",
       "      <th></th>\n",
       "      <th></th>\n",
       "      <th></th>\n",
       "      <th>COUNT</th>\n",
       "    </tr>\n",
       "    <tr>\n",
       "      <th></th>\n",
       "      <th></th>\n",
       "      <th></th>\n",
       "      <th></th>\n",
       "      <th></th>\n",
       "      <th></th>\n",
       "      <th>count</th>\n",
       "    </tr>\n",
       "    <tr>\n",
       "      <th>ID_ACC</th>\n",
       "      <th>ID_SUP</th>\n",
       "      <th>ID_CC</th>\n",
       "      <th>SOURCE</th>\n",
       "      <th>AUX1</th>\n",
       "      <th>CATEGORY</th>\n",
       "      <th></th>\n",
       "    </tr>\n",
       "  </thead>\n",
       "  <tbody>\n",
       "    <tr>\n",
       "      <th rowspan=\"16\" valign=\"top\">62201114</th>\n",
       "      <th>P00000308</th>\n",
       "      <th>6830</th>\n",
       "      <th>TRONA</th>\n",
       "      <th>na</th>\n",
       "      <th>210-999</th>\n",
       "      <td>1</td>\n",
       "    </tr>\n",
       "    <tr>\n",
       "      <th rowspan=\"15\" valign=\"top\">P00000348</th>\n",
       "      <th>1101</th>\n",
       "      <th>SOC</th>\n",
       "      <th>008</th>\n",
       "      <th>210-008</th>\n",
       "      <td>1</td>\n",
       "    </tr>\n",
       "    <tr>\n",
       "      <th>6100</th>\n",
       "      <th>SOC</th>\n",
       "      <th>008</th>\n",
       "      <th>210-008</th>\n",
       "      <td>6</td>\n",
       "    </tr>\n",
       "    <tr>\n",
       "      <th>6102</th>\n",
       "      <th>SOC</th>\n",
       "      <th>008</th>\n",
       "      <th>210-008</th>\n",
       "      <td>1</td>\n",
       "    </tr>\n",
       "    <tr>\n",
       "      <th>6570</th>\n",
       "      <th>SOC</th>\n",
       "      <th>008</th>\n",
       "      <th>210-008</th>\n",
       "      <td>2</td>\n",
       "    </tr>\n",
       "    <tr>\n",
       "      <th>6710</th>\n",
       "      <th>SOC</th>\n",
       "      <th>008</th>\n",
       "      <th>210-008</th>\n",
       "      <td>2</td>\n",
       "    </tr>\n",
       "    <tr>\n",
       "      <th rowspan=\"4\" valign=\"top\">6711</th>\n",
       "      <th rowspan=\"4\" valign=\"top\">SOC</th>\n",
       "      <th>003</th>\n",
       "      <th>210-006</th>\n",
       "      <td>1</td>\n",
       "    </tr>\n",
       "    <tr>\n",
       "      <th>004</th>\n",
       "      <th>210-004</th>\n",
       "      <td>1</td>\n",
       "    </tr>\n",
       "    <tr>\n",
       "      <th>007</th>\n",
       "      <th>210-007</th>\n",
       "      <td>5</td>\n",
       "    </tr>\n",
       "    <tr>\n",
       "      <th>999</th>\n",
       "      <th>210-007</th>\n",
       "      <td>1</td>\n",
       "    </tr>\n",
       "    <tr>\n",
       "      <th>6800</th>\n",
       "      <th>SOC</th>\n",
       "      <th>008</th>\n",
       "      <th>210-008</th>\n",
       "      <td>1</td>\n",
       "    </tr>\n",
       "    <tr>\n",
       "      <th>6821</th>\n",
       "      <th>SOC</th>\n",
       "      <th>007</th>\n",
       "      <th>210-007</th>\n",
       "      <td>1</td>\n",
       "    </tr>\n",
       "    <tr>\n",
       "      <th rowspan=\"2\" valign=\"top\">6830</th>\n",
       "      <th rowspan=\"2\" valign=\"top\">SOC</th>\n",
       "      <th>008</th>\n",
       "      <th>210-008</th>\n",
       "      <td>1</td>\n",
       "    </tr>\n",
       "    <tr>\n",
       "      <th>999</th>\n",
       "      <th>210-999</th>\n",
       "      <td>2</td>\n",
       "    </tr>\n",
       "    <tr>\n",
       "      <th rowspan=\"2\" valign=\"top\">6871</th>\n",
       "      <th rowspan=\"2\" valign=\"top\">SOC</th>\n",
       "      <th>008</th>\n",
       "      <th>210-008</th>\n",
       "      <td>2</td>\n",
       "    </tr>\n",
       "    <tr>\n",
       "      <th>999</th>\n",
       "      <th>210-999</th>\n",
       "      <td>8</td>\n",
       "    </tr>\n",
       "    <tr>\n",
       "      <th rowspan=\"14\" valign=\"top\">62201115</th>\n",
       "      <th>P00000907</th>\n",
       "      <th>6430</th>\n",
       "      <th>SAP</th>\n",
       "      <th>006</th>\n",
       "      <th>210-006</th>\n",
       "      <td>4</td>\n",
       "    </tr>\n",
       "    <tr>\n",
       "      <th>P00000908</th>\n",
       "      <th>6473</th>\n",
       "      <th>SAP</th>\n",
       "      <th>006</th>\n",
       "      <th>210-006</th>\n",
       "      <td>7</td>\n",
       "    </tr>\n",
       "    <tr>\n",
       "      <th>P00000911</th>\n",
       "      <th>6421</th>\n",
       "      <th>SAP</th>\n",
       "      <th>006</th>\n",
       "      <th>210-006</th>\n",
       "      <td>1</td>\n",
       "    </tr>\n",
       "    <tr>\n",
       "      <th rowspan=\"2\" valign=\"top\">P00000913</th>\n",
       "      <th rowspan=\"2\" valign=\"top\">6415</th>\n",
       "      <th rowspan=\"2\" valign=\"top\">SAP</th>\n",
       "      <th>006</th>\n",
       "      <th>210-006</th>\n",
       "      <td>2</td>\n",
       "    </tr>\n",
       "    <tr>\n",
       "      <th>007</th>\n",
       "      <th>210-006</th>\n",
       "      <td>1</td>\n",
       "    </tr>\n",
       "    <tr>\n",
       "      <th>P00000916</th>\n",
       "      <th>6836</th>\n",
       "      <th>SAP</th>\n",
       "      <th>999</th>\n",
       "      <th>210-999</th>\n",
       "      <td>1</td>\n",
       "    </tr>\n",
       "    <tr>\n",
       "      <th>P00000923</th>\n",
       "      <th>6830</th>\n",
       "      <th>SAP</th>\n",
       "      <th>006</th>\n",
       "      <th>210-006</th>\n",
       "      <td>1</td>\n",
       "    </tr>\n",
       "    <tr>\n",
       "      <th>P00000927</th>\n",
       "      <th>6800</th>\n",
       "      <th>SAP</th>\n",
       "      <th>006</th>\n",
       "      <th>210-006</th>\n",
       "      <td>1</td>\n",
       "    </tr>\n",
       "    <tr>\n",
       "      <th>P00000932</th>\n",
       "      <th>6416</th>\n",
       "      <th>SAP</th>\n",
       "      <th>006</th>\n",
       "      <th>210-006</th>\n",
       "      <td>4</td>\n",
       "    </tr>\n",
       "    <tr>\n",
       "      <th>P00000934</th>\n",
       "      <th>6415</th>\n",
       "      <th>SAP</th>\n",
       "      <th>005</th>\n",
       "      <th>210-005</th>\n",
       "      <td>1</td>\n",
       "    </tr>\n",
       "    <tr>\n",
       "      <th>P00000937</th>\n",
       "      <th>6430</th>\n",
       "      <th>SAP</th>\n",
       "      <th>006</th>\n",
       "      <th>210-006</th>\n",
       "      <td>1</td>\n",
       "    </tr>\n",
       "    <tr>\n",
       "      <th>P00000939</th>\n",
       "      <th>6578</th>\n",
       "      <th>SAP</th>\n",
       "      <th>006</th>\n",
       "      <th>210-006</th>\n",
       "      <td>3</td>\n",
       "    </tr>\n",
       "    <tr>\n",
       "      <th rowspan=\"2\" valign=\"top\">P00000946</th>\n",
       "      <th>6410</th>\n",
       "      <th>SAP</th>\n",
       "      <th>006</th>\n",
       "      <th>210-006</th>\n",
       "      <td>8</td>\n",
       "    </tr>\n",
       "    <tr>\n",
       "      <th>6415</th>\n",
       "      <th>SAP</th>\n",
       "      <th>006</th>\n",
       "      <th>210-006</th>\n",
       "      <td>2</td>\n",
       "    </tr>\n",
       "    <tr>\n",
       "      <th>...</th>\n",
       "      <th>...</th>\n",
       "      <th>...</th>\n",
       "      <th>...</th>\n",
       "      <th>...</th>\n",
       "      <th>...</th>\n",
       "      <td>...</td>\n",
       "    </tr>\n",
       "    <tr>\n",
       "      <th rowspan=\"23\" valign=\"top\">62201922</th>\n",
       "      <th rowspan=\"23\" valign=\"top\">P00001179</th>\n",
       "      <th>6579</th>\n",
       "      <th>AMQ</th>\n",
       "      <th>na</th>\n",
       "      <th>210-001</th>\n",
       "      <td>1</td>\n",
       "    </tr>\n",
       "    <tr>\n",
       "      <th>6710</th>\n",
       "      <th>ADP</th>\n",
       "      <th>na</th>\n",
       "      <th>210-001</th>\n",
       "      <td>24</td>\n",
       "    </tr>\n",
       "    <tr>\n",
       "      <th>6711</th>\n",
       "      <th>ADP</th>\n",
       "      <th>na</th>\n",
       "      <th>210-001</th>\n",
       "      <td>24</td>\n",
       "    </tr>\n",
       "    <tr>\n",
       "      <th>6712</th>\n",
       "      <th>ADP</th>\n",
       "      <th>na</th>\n",
       "      <th>210-001</th>\n",
       "      <td>8</td>\n",
       "    </tr>\n",
       "    <tr>\n",
       "      <th>6715</th>\n",
       "      <th>ADP</th>\n",
       "      <th>na</th>\n",
       "      <th>210-001</th>\n",
       "      <td>24</td>\n",
       "    </tr>\n",
       "    <tr>\n",
       "      <th>6770</th>\n",
       "      <th>ADP</th>\n",
       "      <th>na</th>\n",
       "      <th>210-001</th>\n",
       "      <td>24</td>\n",
       "    </tr>\n",
       "    <tr>\n",
       "      <th>6771</th>\n",
       "      <th>ADP</th>\n",
       "      <th>na</th>\n",
       "      <th>210-001</th>\n",
       "      <td>24</td>\n",
       "    </tr>\n",
       "    <tr>\n",
       "      <th rowspan=\"2\" valign=\"top\">6800</th>\n",
       "      <th>ADP</th>\n",
       "      <th>na</th>\n",
       "      <th>210-001</th>\n",
       "      <td>70</td>\n",
       "    </tr>\n",
       "    <tr>\n",
       "      <th>AMQ</th>\n",
       "      <th>na</th>\n",
       "      <th>210-001</th>\n",
       "      <td>2</td>\n",
       "    </tr>\n",
       "    <tr>\n",
       "      <th>6805</th>\n",
       "      <th>ADP</th>\n",
       "      <th>na</th>\n",
       "      <th>210-001</th>\n",
       "      <td>24</td>\n",
       "    </tr>\n",
       "    <tr>\n",
       "      <th>6818</th>\n",
       "      <th>ADP</th>\n",
       "      <th>na</th>\n",
       "      <th>210-001</th>\n",
       "      <td>24</td>\n",
       "    </tr>\n",
       "    <tr>\n",
       "      <th rowspan=\"2\" valign=\"top\">6830</th>\n",
       "      <th>ADP</th>\n",
       "      <th>na</th>\n",
       "      <th>210-001</th>\n",
       "      <td>24</td>\n",
       "    </tr>\n",
       "    <tr>\n",
       "      <th>AMQ</th>\n",
       "      <th>na</th>\n",
       "      <th>210-001</th>\n",
       "      <td>1</td>\n",
       "    </tr>\n",
       "    <tr>\n",
       "      <th rowspan=\"2\" valign=\"top\">6836</th>\n",
       "      <th>ADP</th>\n",
       "      <th>na</th>\n",
       "      <th>210-001</th>\n",
       "      <td>24</td>\n",
       "    </tr>\n",
       "    <tr>\n",
       "      <th>AMQ</th>\n",
       "      <th>na</th>\n",
       "      <th>210-001</th>\n",
       "      <td>1</td>\n",
       "    </tr>\n",
       "    <tr>\n",
       "      <th>6840</th>\n",
       "      <th>ADP</th>\n",
       "      <th>na</th>\n",
       "      <th>210-001</th>\n",
       "      <td>24</td>\n",
       "    </tr>\n",
       "    <tr>\n",
       "      <th>6871</th>\n",
       "      <th>ADP</th>\n",
       "      <th>na</th>\n",
       "      <th>210-001</th>\n",
       "      <td>24</td>\n",
       "    </tr>\n",
       "    <tr>\n",
       "      <th rowspan=\"3\" valign=\"top\">6875</th>\n",
       "      <th>ADP</th>\n",
       "      <th>na</th>\n",
       "      <th>210-001</th>\n",
       "      <td>207</td>\n",
       "    </tr>\n",
       "    <tr>\n",
       "      <th>AMQ</th>\n",
       "      <th>na</th>\n",
       "      <th>210-001</th>\n",
       "      <td>1</td>\n",
       "    </tr>\n",
       "    <tr>\n",
       "      <th>NA</th>\n",
       "      <th>na</th>\n",
       "      <th>210-001</th>\n",
       "      <td>8</td>\n",
       "    </tr>\n",
       "    <tr>\n",
       "      <th rowspan=\"3\" valign=\"top\">6984</th>\n",
       "      <th>ADP</th>\n",
       "      <th>na</th>\n",
       "      <th>210-001</th>\n",
       "      <td>8</td>\n",
       "    </tr>\n",
       "    <tr>\n",
       "      <th>EGO</th>\n",
       "      <th>na</th>\n",
       "      <th>210-001</th>\n",
       "      <td>2</td>\n",
       "    </tr>\n",
       "    <tr>\n",
       "      <th>NMM</th>\n",
       "      <th>na</th>\n",
       "      <th>210-001</th>\n",
       "      <td>12</td>\n",
       "    </tr>\n",
       "    <tr>\n",
       "      <th rowspan=\"7\" valign=\"top\">98206300</th>\n",
       "      <th>P00000985</th>\n",
       "      <th>6821</th>\n",
       "      <th>HEF</th>\n",
       "      <th>999</th>\n",
       "      <th>210-999</th>\n",
       "      <td>1</td>\n",
       "    </tr>\n",
       "    <tr>\n",
       "      <th>P00001163</th>\n",
       "      <th>6821</th>\n",
       "      <th>SAP</th>\n",
       "      <th>999</th>\n",
       "      <th>210-999</th>\n",
       "      <td>1</td>\n",
       "    </tr>\n",
       "    <tr>\n",
       "      <th rowspan=\"5\" valign=\"top\">P00001179</th>\n",
       "      <th rowspan=\"5\" valign=\"top\">6821</th>\n",
       "      <th rowspan=\"2\" valign=\"top\">ADP</th>\n",
       "      <th rowspan=\"2\" valign=\"top\">na</th>\n",
       "      <th>210-001</th>\n",
       "      <td>29</td>\n",
       "    </tr>\n",
       "    <tr>\n",
       "      <th>210-999</th>\n",
       "      <td>3</td>\n",
       "    </tr>\n",
       "    <tr>\n",
       "      <th>EGO</th>\n",
       "      <th>na</th>\n",
       "      <th>210-001</th>\n",
       "      <td>2</td>\n",
       "    </tr>\n",
       "    <tr>\n",
       "      <th>EJC</th>\n",
       "      <th>na</th>\n",
       "      <th>210-006</th>\n",
       "      <td>1</td>\n",
       "    </tr>\n",
       "    <tr>\n",
       "      <th>HEF</th>\n",
       "      <th>na</th>\n",
       "      <th>210-007</th>\n",
       "      <td>2</td>\n",
       "    </tr>\n",
       "  </tbody>\n",
       "</table>\n",
       "<p>291 rows × 1 columns</p>\n",
       "</div>"
      ],
      "text/plain": [
       "                                              COUNT\n",
       "                                              count\n",
       "ID_ACC   ID_SUP    ID_CC SOURCE AUX1 CATEGORY      \n",
       "62201114 P00000308 6830  TRONA  na   210-999      1\n",
       "         P00000348 1101  SOC    008  210-008      1\n",
       "                   6100  SOC    008  210-008      6\n",
       "                   6102  SOC    008  210-008      1\n",
       "                   6570  SOC    008  210-008      2\n",
       "                   6710  SOC    008  210-008      2\n",
       "                   6711  SOC    003  210-006      1\n",
       "                                004  210-004      1\n",
       "                                007  210-007      5\n",
       "                                999  210-007      1\n",
       "                   6800  SOC    008  210-008      1\n",
       "                   6821  SOC    007  210-007      1\n",
       "                   6830  SOC    008  210-008      1\n",
       "                                999  210-999      2\n",
       "                   6871  SOC    008  210-008      2\n",
       "                                999  210-999      8\n",
       "62201115 P00000907 6430  SAP    006  210-006      4\n",
       "         P00000908 6473  SAP    006  210-006      7\n",
       "         P00000911 6421  SAP    006  210-006      1\n",
       "         P00000913 6415  SAP    006  210-006      2\n",
       "                                007  210-006      1\n",
       "         P00000916 6836  SAP    999  210-999      1\n",
       "         P00000923 6830  SAP    006  210-006      1\n",
       "         P00000927 6800  SAP    006  210-006      1\n",
       "         P00000932 6416  SAP    006  210-006      4\n",
       "         P00000934 6415  SAP    005  210-005      1\n",
       "         P00000937 6430  SAP    006  210-006      1\n",
       "         P00000939 6578  SAP    006  210-006      3\n",
       "         P00000946 6410  SAP    006  210-006      8\n",
       "                   6415  SAP    006  210-006      2\n",
       "...                                             ...\n",
       "62201922 P00001179 6579  AMQ    na   210-001      1\n",
       "                   6710  ADP    na   210-001     24\n",
       "                   6711  ADP    na   210-001     24\n",
       "                   6712  ADP    na   210-001      8\n",
       "                   6715  ADP    na   210-001     24\n",
       "                   6770  ADP    na   210-001     24\n",
       "                   6771  ADP    na   210-001     24\n",
       "                   6800  ADP    na   210-001     70\n",
       "                         AMQ    na   210-001      2\n",
       "                   6805  ADP    na   210-001     24\n",
       "                   6818  ADP    na   210-001     24\n",
       "                   6830  ADP    na   210-001     24\n",
       "                         AMQ    na   210-001      1\n",
       "                   6836  ADP    na   210-001     24\n",
       "                         AMQ    na   210-001      1\n",
       "                   6840  ADP    na   210-001     24\n",
       "                   6871  ADP    na   210-001     24\n",
       "                   6875  ADP    na   210-001    207\n",
       "                         AMQ    na   210-001      1\n",
       "                         NA     na   210-001      8\n",
       "                   6984  ADP    na   210-001      8\n",
       "                         EGO    na   210-001      2\n",
       "                         NMM    na   210-001     12\n",
       "98206300 P00000985 6821  HEF    999  210-999      1\n",
       "         P00001163 6821  SAP    999  210-999      1\n",
       "         P00001179 6821  ADP    na   210-001     29\n",
       "                                     210-999      3\n",
       "                         EGO    na   210-001      2\n",
       "                         EJC    na   210-006      1\n",
       "                         HEF    na   210-007      2\n",
       "\n",
       "[291 rows x 1 columns]"
      ]
     },
     "execution_count": 222,
     "metadata": {},
     "output_type": "execute_result"
    }
   ],
   "source": [
    "#Group by of most relevant attributes.\n",
    "Exp[['ID_ACC','ID_SUP', 'ID_CC', 'SOURCE', 'AUX1',  'CATEGORY','COUNT']].groupby(['ID_ACC','ID_SUP', 'ID_CC', 'SOURCE', 'AUX1','CATEGORY']).agg(['count'])"
   ]
  },
  {
   "cell_type": "markdown",
   "metadata": {},
   "source": [
    "###### Pre-processing\n",
    "Using labelEncoder and pandas.get_dummies. I decided to use pandas.get_dummies because it gave me the sparse option for dataframes. When I tried to use hot-encoder with sparse=True it returns a sparse matrix, that I didn't know how to merge with the original dataframe. However, I got an error using the sparse dataframe when plotting results, so I tested the performance without the sparse option and it also worked ok."
   ]
  },
  {
   "cell_type": "code",
   "execution_count": 223,
   "metadata": {
    "collapsed": true
   },
   "outputs": [],
   "source": [
    "import sklearn.preprocessing"
   ]
  },
  {
   "cell_type": "code",
   "execution_count": 224,
   "metadata": {
    "collapsed": true
   },
   "outputs": [],
   "source": [
    "label_coder = sklearn.preprocessing.LabelEncoder()"
   ]
  },
  {
   "cell_type": "code",
   "execution_count": 353,
   "metadata": {
    "collapsed": false
   },
   "outputs": [
    {
     "data": {
      "text/html": [
       "<div>\n",
       "<table border=\"1\" class=\"dataframe\">\n",
       "  <thead>\n",
       "    <tr style=\"text-align: right;\">\n",
       "      <th></th>\n",
       "      <th>GROUP</th>\n",
       "      <th>ID_ACC</th>\n",
       "      <th>SUB_GROUP</th>\n",
       "      <th>ID_SUP</th>\n",
       "      <th>ID_JOU</th>\n",
       "      <th>MONTH</th>\n",
       "      <th>SOURCE</th>\n",
       "      <th>REF</th>\n",
       "      <th>DESC</th>\n",
       "      <th>AUX1</th>\n",
       "      <th>...</th>\n",
       "      <th>ID_CC</th>\n",
       "      <th>CATEGORY</th>\n",
       "      <th>VALUE</th>\n",
       "      <th>COUNT</th>\n",
       "      <th>category</th>\n",
       "      <th>id_acc</th>\n",
       "      <th>id_sup</th>\n",
       "      <th>id_cc</th>\n",
       "      <th>source</th>\n",
       "      <th>aux1</th>\n",
       "    </tr>\n",
       "  </thead>\n",
       "  <tbody>\n",
       "    <tr>\n",
       "      <th>0</th>\n",
       "      <td>CAR EXPENSES</td>\n",
       "      <td>62201115</td>\n",
       "      <td>210</td>\n",
       "      <td>P00000939</td>\n",
       "      <td>TES</td>\n",
       "      <td>8</td>\n",
       "      <td>SAP</td>\n",
       "      <td>0050003753</td>\n",
       "      <td>KR- 006 REEMBOLSO AGO 28</td>\n",
       "      <td>006</td>\n",
       "      <td>...</td>\n",
       "      <td>6578</td>\n",
       "      <td>210-006</td>\n",
       "      <td>2</td>\n",
       "      <td>1</td>\n",
       "      <td>5</td>\n",
       "      <td>1</td>\n",
       "      <td>32</td>\n",
       "      <td>44</td>\n",
       "      <td>10</td>\n",
       "      <td>6</td>\n",
       "    </tr>\n",
       "    <tr>\n",
       "      <th>1</th>\n",
       "      <td>CAR EXPENSES</td>\n",
       "      <td>62201916</td>\n",
       "      <td>210</td>\n",
       "      <td>P00001179</td>\n",
       "      <td>NOM</td>\n",
       "      <td>1</td>\n",
       "      <td>ADP</td>\n",
       "      <td>103</td>\n",
       "      <td>Gasolina</td>\n",
       "      <td>na</td>\n",
       "      <td>...</td>\n",
       "      <td>6578</td>\n",
       "      <td>210-001</td>\n",
       "      <td>8</td>\n",
       "      <td>1</td>\n",
       "      <td>0</td>\n",
       "      <td>3</td>\n",
       "      <td>84</td>\n",
       "      <td>44</td>\n",
       "      <td>0</td>\n",
       "      <td>12</td>\n",
       "    </tr>\n",
       "    <tr>\n",
       "      <th>2</th>\n",
       "      <td>CAR EXPENSES</td>\n",
       "      <td>62201916</td>\n",
       "      <td>210</td>\n",
       "      <td>P00001179</td>\n",
       "      <td>NOM</td>\n",
       "      <td>2</td>\n",
       "      <td>ADP</td>\n",
       "      <td>104</td>\n",
       "      <td>Gasolina</td>\n",
       "      <td>na</td>\n",
       "      <td>...</td>\n",
       "      <td>6578</td>\n",
       "      <td>210-001</td>\n",
       "      <td>8</td>\n",
       "      <td>1</td>\n",
       "      <td>0</td>\n",
       "      <td>3</td>\n",
       "      <td>84</td>\n",
       "      <td>44</td>\n",
       "      <td>0</td>\n",
       "      <td>12</td>\n",
       "    </tr>\n",
       "    <tr>\n",
       "      <th>3</th>\n",
       "      <td>CAR EXPENSES</td>\n",
       "      <td>62201916</td>\n",
       "      <td>210</td>\n",
       "      <td>P00001179</td>\n",
       "      <td>NOM</td>\n",
       "      <td>3</td>\n",
       "      <td>ADP</td>\n",
       "      <td>104</td>\n",
       "      <td>Gasolina</td>\n",
       "      <td>na</td>\n",
       "      <td>...</td>\n",
       "      <td>6578</td>\n",
       "      <td>210-001</td>\n",
       "      <td>8</td>\n",
       "      <td>1</td>\n",
       "      <td>0</td>\n",
       "      <td>3</td>\n",
       "      <td>84</td>\n",
       "      <td>44</td>\n",
       "      <td>0</td>\n",
       "      <td>12</td>\n",
       "    </tr>\n",
       "    <tr>\n",
       "      <th>4</th>\n",
       "      <td>CAR EXPENSES</td>\n",
       "      <td>62201916</td>\n",
       "      <td>210</td>\n",
       "      <td>P00001179</td>\n",
       "      <td>NOM</td>\n",
       "      <td>4</td>\n",
       "      <td>ADP</td>\n",
       "      <td>103</td>\n",
       "      <td>Gasolina</td>\n",
       "      <td>na</td>\n",
       "      <td>...</td>\n",
       "      <td>6578</td>\n",
       "      <td>210-001</td>\n",
       "      <td>8</td>\n",
       "      <td>1</td>\n",
       "      <td>0</td>\n",
       "      <td>3</td>\n",
       "      <td>84</td>\n",
       "      <td>44</td>\n",
       "      <td>0</td>\n",
       "      <td>12</td>\n",
       "    </tr>\n",
       "  </tbody>\n",
       "</table>\n",
       "<p>5 rows × 21 columns</p>\n",
       "</div>"
      ],
      "text/plain": [
       "          GROUP    ID_ACC SUB_GROUP     ID_SUP ID_JOU MONTH SOURCE  \\\n",
       "0  CAR EXPENSES  62201115       210  P00000939    TES     8    SAP   \n",
       "1  CAR EXPENSES  62201916       210  P00001179    NOM     1    ADP   \n",
       "2  CAR EXPENSES  62201916       210  P00001179    NOM     2    ADP   \n",
       "3  CAR EXPENSES  62201916       210  P00001179    NOM     3    ADP   \n",
       "4  CAR EXPENSES  62201916       210  P00001179    NOM     4    ADP   \n",
       "\n",
       "          REF                      DESC AUX1  ...  ID_CC CATEGORY VALUE  \\\n",
       "0  0050003753  KR- 006 REEMBOLSO AGO 28  006  ...   6578  210-006     2   \n",
       "1         103                  Gasolina   na  ...   6578  210-001     8   \n",
       "2         104                  Gasolina   na  ...   6578  210-001     8   \n",
       "3         104                  Gasolina   na  ...   6578  210-001     8   \n",
       "4         103                  Gasolina   na  ...   6578  210-001     8   \n",
       "\n",
       "   COUNT  category  id_acc  id_sup  id_cc  source  aux1  \n",
       "0      1         5       1      32     44      10     6  \n",
       "1      1         0       3      84     44       0    12  \n",
       "2      1         0       3      84     44       0    12  \n",
       "3      1         0       3      84     44       0    12  \n",
       "4      1         0       3      84     44       0    12  \n",
       "\n",
       "[5 rows x 21 columns]"
      ]
     },
     "execution_count": 353,
     "metadata": {},
     "output_type": "execute_result"
    }
   ],
   "source": [
    "Exp['category'] = label_coder.fit_transform(Exp.CATEGORY)\n",
    "Exp['id_acc'] = label_coder.fit_transform(Exp.ID_ACC)\n",
    "Exp['id_sup'] = label_coder.fit_transform(Exp.ID_SUP)\n",
    "Exp['id_cc'] = label_coder.fit_transform(Exp.ID_CC)\n",
    "Exp['source'] = label_coder.fit_transform(Exp.SOURCE)\n",
    "Exp['aux1'] = label_coder.fit_transform(Exp.AUX1)\n",
    "Exp.head()"
   ]
  },
  {
   "cell_type": "code",
   "execution_count": 290,
   "metadata": {
    "collapsed": false
   },
   "outputs": [
    {
     "name": "stdout",
     "output_type": "stream",
     "text": [
      "(2899, 6)\n",
      "(2899, 5)\n",
      "(2899, 1)\n"
     ]
    }
   ],
   "source": [
    "# Expenses dataframe with attributes (data) and target column\n",
    "Exp_clean = Exp [['id_acc', 'id_sup', 'id_cc', 'source', 'aux1', 'category']]\n",
    "Exp_clean_data = Exp [['id_acc', 'id_sup', 'id_cc', 'source', 'aux1']]\n",
    "Exp_clean_target = Exp [['category']]\n",
    "print Exp_clean.shape\n",
    "print Exp_clean_data.shape\n",
    "print Exp_clean_target.shape"
   ]
  },
  {
   "cell_type": "code",
   "execution_count": 339,
   "metadata": {
    "collapsed": true
   },
   "outputs": [],
   "source": [
    "# get_dummy to \"pivot\" data\n",
    "Exp_data = pandas.get_dummies(Exp_clean_data, columns = ['id_acc', 'id_sup', 'id_cc', 'source', 'aux1'], sparse = False)\n",
    "Exp_target = Exp_clean_target\n",
    "\n",
    "## I had to run it again with sparse set to False to be able to plot the data.\n",
    "# Otherwise I get a x,y size error when trying to plot "
   ]
  },
  {
   "cell_type": "code",
   "execution_count": 340,
   "metadata": {
    "collapsed": false
   },
   "outputs": [
    {
     "name": "stdout",
     "output_type": "stream",
     "text": [
      "(2899, 180)\n",
      "(2899, 1)\n"
     ]
    }
   ],
   "source": [
    "print Exp_data.shape\n",
    "print Exp_target.shape"
   ]
  },
  {
   "cell_type": "code",
   "execution_count": 341,
   "metadata": {
    "collapsed": false
   },
   "outputs": [
    {
     "data": {
      "text/html": [
       "<div>\n",
       "<table border=\"1\" class=\"dataframe\">\n",
       "  <thead>\n",
       "    <tr style=\"text-align: right;\">\n",
       "      <th></th>\n",
       "      <th>id_acc_0</th>\n",
       "      <th>id_acc_1</th>\n",
       "      <th>id_acc_2</th>\n",
       "      <th>id_acc_3</th>\n",
       "      <th>id_acc_4</th>\n",
       "      <th>id_acc_5</th>\n",
       "      <th>id_sup_0</th>\n",
       "      <th>id_sup_1</th>\n",
       "      <th>id_sup_2</th>\n",
       "      <th>id_sup_3</th>\n",
       "      <th>...</th>\n",
       "      <th>aux1_3</th>\n",
       "      <th>aux1_4</th>\n",
       "      <th>aux1_5</th>\n",
       "      <th>aux1_6</th>\n",
       "      <th>aux1_7</th>\n",
       "      <th>aux1_8</th>\n",
       "      <th>aux1_9</th>\n",
       "      <th>aux1_10</th>\n",
       "      <th>aux1_11</th>\n",
       "      <th>aux1_12</th>\n",
       "    </tr>\n",
       "  </thead>\n",
       "  <tbody>\n",
       "    <tr>\n",
       "      <th>0</th>\n",
       "      <td>0.0</td>\n",
       "      <td>1.0</td>\n",
       "      <td>0.0</td>\n",
       "      <td>0.0</td>\n",
       "      <td>0.0</td>\n",
       "      <td>0.0</td>\n",
       "      <td>0.0</td>\n",
       "      <td>0.0</td>\n",
       "      <td>0.0</td>\n",
       "      <td>0.0</td>\n",
       "      <td>...</td>\n",
       "      <td>0.0</td>\n",
       "      <td>0.0</td>\n",
       "      <td>0.0</td>\n",
       "      <td>1.0</td>\n",
       "      <td>0.0</td>\n",
       "      <td>0.0</td>\n",
       "      <td>0.0</td>\n",
       "      <td>0.0</td>\n",
       "      <td>0.0</td>\n",
       "      <td>0.0</td>\n",
       "    </tr>\n",
       "    <tr>\n",
       "      <th>1</th>\n",
       "      <td>0.0</td>\n",
       "      <td>0.0</td>\n",
       "      <td>0.0</td>\n",
       "      <td>1.0</td>\n",
       "      <td>0.0</td>\n",
       "      <td>0.0</td>\n",
       "      <td>0.0</td>\n",
       "      <td>0.0</td>\n",
       "      <td>0.0</td>\n",
       "      <td>0.0</td>\n",
       "      <td>...</td>\n",
       "      <td>0.0</td>\n",
       "      <td>0.0</td>\n",
       "      <td>0.0</td>\n",
       "      <td>0.0</td>\n",
       "      <td>0.0</td>\n",
       "      <td>0.0</td>\n",
       "      <td>0.0</td>\n",
       "      <td>0.0</td>\n",
       "      <td>0.0</td>\n",
       "      <td>1.0</td>\n",
       "    </tr>\n",
       "    <tr>\n",
       "      <th>2</th>\n",
       "      <td>0.0</td>\n",
       "      <td>0.0</td>\n",
       "      <td>0.0</td>\n",
       "      <td>1.0</td>\n",
       "      <td>0.0</td>\n",
       "      <td>0.0</td>\n",
       "      <td>0.0</td>\n",
       "      <td>0.0</td>\n",
       "      <td>0.0</td>\n",
       "      <td>0.0</td>\n",
       "      <td>...</td>\n",
       "      <td>0.0</td>\n",
       "      <td>0.0</td>\n",
       "      <td>0.0</td>\n",
       "      <td>0.0</td>\n",
       "      <td>0.0</td>\n",
       "      <td>0.0</td>\n",
       "      <td>0.0</td>\n",
       "      <td>0.0</td>\n",
       "      <td>0.0</td>\n",
       "      <td>1.0</td>\n",
       "    </tr>\n",
       "    <tr>\n",
       "      <th>3</th>\n",
       "      <td>0.0</td>\n",
       "      <td>0.0</td>\n",
       "      <td>0.0</td>\n",
       "      <td>1.0</td>\n",
       "      <td>0.0</td>\n",
       "      <td>0.0</td>\n",
       "      <td>0.0</td>\n",
       "      <td>0.0</td>\n",
       "      <td>0.0</td>\n",
       "      <td>0.0</td>\n",
       "      <td>...</td>\n",
       "      <td>0.0</td>\n",
       "      <td>0.0</td>\n",
       "      <td>0.0</td>\n",
       "      <td>0.0</td>\n",
       "      <td>0.0</td>\n",
       "      <td>0.0</td>\n",
       "      <td>0.0</td>\n",
       "      <td>0.0</td>\n",
       "      <td>0.0</td>\n",
       "      <td>1.0</td>\n",
       "    </tr>\n",
       "    <tr>\n",
       "      <th>4</th>\n",
       "      <td>0.0</td>\n",
       "      <td>0.0</td>\n",
       "      <td>0.0</td>\n",
       "      <td>1.0</td>\n",
       "      <td>0.0</td>\n",
       "      <td>0.0</td>\n",
       "      <td>0.0</td>\n",
       "      <td>0.0</td>\n",
       "      <td>0.0</td>\n",
       "      <td>0.0</td>\n",
       "      <td>...</td>\n",
       "      <td>0.0</td>\n",
       "      <td>0.0</td>\n",
       "      <td>0.0</td>\n",
       "      <td>0.0</td>\n",
       "      <td>0.0</td>\n",
       "      <td>0.0</td>\n",
       "      <td>0.0</td>\n",
       "      <td>0.0</td>\n",
       "      <td>0.0</td>\n",
       "      <td>1.0</td>\n",
       "    </tr>\n",
       "  </tbody>\n",
       "</table>\n",
       "<p>5 rows × 180 columns</p>\n",
       "</div>"
      ],
      "text/plain": [
       "   id_acc_0  id_acc_1  id_acc_2  id_acc_3  id_acc_4  id_acc_5  id_sup_0  \\\n",
       "0       0.0       1.0       0.0       0.0       0.0       0.0       0.0   \n",
       "1       0.0       0.0       0.0       1.0       0.0       0.0       0.0   \n",
       "2       0.0       0.0       0.0       1.0       0.0       0.0       0.0   \n",
       "3       0.0       0.0       0.0       1.0       0.0       0.0       0.0   \n",
       "4       0.0       0.0       0.0       1.0       0.0       0.0       0.0   \n",
       "\n",
       "   id_sup_1  id_sup_2  id_sup_3   ...     aux1_3  aux1_4  aux1_5  aux1_6  \\\n",
       "0       0.0       0.0       0.0   ...        0.0     0.0     0.0     1.0   \n",
       "1       0.0       0.0       0.0   ...        0.0     0.0     0.0     0.0   \n",
       "2       0.0       0.0       0.0   ...        0.0     0.0     0.0     0.0   \n",
       "3       0.0       0.0       0.0   ...        0.0     0.0     0.0     0.0   \n",
       "4       0.0       0.0       0.0   ...        0.0     0.0     0.0     0.0   \n",
       "\n",
       "   aux1_7  aux1_8  aux1_9  aux1_10  aux1_11  aux1_12  \n",
       "0     0.0     0.0     0.0      0.0      0.0      0.0  \n",
       "1     0.0     0.0     0.0      0.0      0.0      1.0  \n",
       "2     0.0     0.0     0.0      0.0      0.0      1.0  \n",
       "3     0.0     0.0     0.0      0.0      0.0      1.0  \n",
       "4     0.0     0.0     0.0      0.0      0.0      1.0  \n",
       "\n",
       "[5 rows x 180 columns]"
      ]
     },
     "execution_count": 341,
     "metadata": {},
     "output_type": "execute_result"
    }
   ],
   "source": [
    "Exp_data.head()"
   ]
  },
  {
   "cell_type": "code",
   "execution_count": 342,
   "metadata": {
    "collapsed": false
   },
   "outputs": [
    {
     "data": {
      "text/html": [
       "<div>\n",
       "<table border=\"1\" class=\"dataframe\">\n",
       "  <thead>\n",
       "    <tr style=\"text-align: right;\">\n",
       "      <th></th>\n",
       "      <th>category</th>\n",
       "    </tr>\n",
       "  </thead>\n",
       "  <tbody>\n",
       "    <tr>\n",
       "      <th>0</th>\n",
       "      <td>5</td>\n",
       "    </tr>\n",
       "    <tr>\n",
       "      <th>1</th>\n",
       "      <td>0</td>\n",
       "    </tr>\n",
       "    <tr>\n",
       "      <th>2</th>\n",
       "      <td>0</td>\n",
       "    </tr>\n",
       "    <tr>\n",
       "      <th>3</th>\n",
       "      <td>0</td>\n",
       "    </tr>\n",
       "    <tr>\n",
       "      <th>4</th>\n",
       "      <td>0</td>\n",
       "    </tr>\n",
       "  </tbody>\n",
       "</table>\n",
       "</div>"
      ],
      "text/plain": [
       "   category\n",
       "0         5\n",
       "1         0\n",
       "2         0\n",
       "3         0\n",
       "4         0"
      ]
     },
     "execution_count": 342,
     "metadata": {},
     "output_type": "execute_result"
    }
   ],
   "source": [
    "Exp_target.head()"
   ]
  },
  {
   "cell_type": "code",
   "execution_count": 343,
   "metadata": {
    "collapsed": false
   },
   "outputs": [
    {
     "data": {
      "text/plain": [
       "id_acc_3     0.280442\n",
       "id_acc_4     0.585029\n",
       "id_sup_84    0.865126\n",
       "source_0     0.833391\n",
       "aux1_12      0.872370\n",
       "dtype: float64"
      ]
     },
     "execution_count": 343,
     "metadata": {},
     "output_type": "execute_result"
    }
   ],
   "source": [
    "# columns with higher means\n",
    "df = Exp_data.mean()\n",
    "df [df > 0.2]"
   ]
  },
  {
   "cell_type": "markdown",
   "metadata": {},
   "source": [
    "#### Clustering"
   ]
  },
  {
   "cell_type": "code",
   "execution_count": 344,
   "metadata": {
    "collapsed": true
   },
   "outputs": [],
   "source": [
    "# KMeans with 9 clusters \n",
    "\n",
    "import sklearn.cluster\n",
    "Exp_cluster = sklearn.cluster.KMeans(n_clusters=9, init='random')\n",
    "Exp_cluster.fit(Exp_data)\n",
    "y_kmeans = Exp_cluster.predict(Exp_data)"
   ]
  },
  {
   "cell_type": "code",
   "execution_count": 345,
   "metadata": {
    "collapsed": false
   },
   "outputs": [
    {
     "name": "stdout",
     "output_type": "stream",
     "text": [
      "[('source', 2.7755575615628914e-17), ('id_sup', 0.0), ('id_cc', -1.3877787807814457e-17), ('category', -3.3306690738754696e-16)]\n",
      "\n",
      "[('category', 0.23529411764705821), ('source', 0.039215686274509817), ('aux1', 3.3306690738754696e-16), ('id_cc', -4.163336342344337e-17)]\n",
      "\n",
      "[('aux1', 1.6653345369377348e-16), ('source', 2.0816681711721685e-17), ('id_sup', 0.0), ('id_cc', 0.0)]\n",
      "\n",
      "[('aux1', 0.029850746268656247), ('source', 0.0099502487562189365), ('id_sup', 0.0), ('category', -1.4432899320127035e-15)]\n",
      "\n",
      "[('category', 6.4392935428259079e-15), ('id_sup', 2.2898349882893854e-16), ('id_cc', -3.4694469519536142e-16), ('source', -7.5633943552588789e-16)]\n",
      "\n",
      "[('category', 0.5), ('id_cc', 2.7755575615628914e-17), ('source', 1.3877787807814457e-17), ('id_sup', 0.0)]\n",
      "\n",
      "[('aux1', 5.1625370645069779e-15), ('id_sup', 3.3653635433950058e-16), ('source', -1.2559397966072083e-15), ('id_cc', -1.3739009929736312e-15)]\n",
      "\n",
      "[('aux1', 0.055555555555555247), ('category', 3.3306690738754696e-16), ('id_cc', 8.3266726846886741e-17), ('id_sup', 0.0)]\n",
      "\n",
      "[('source', 2.7755575615628914e-17), ('id_sup', 0.0), ('id_cc', -2.0816681711721685e-16), ('aux1', -5.5511151231257827e-16)]\n",
      "\n"
     ]
    },
    {
     "data": {
      "text/plain": [
       "0.19415903939054313"
      ]
     },
     "execution_count": 345,
     "metadata": {},
     "output_type": "execute_result"
    }
   ],
   "source": [
    "# get info on one cluster\n",
    "import sklearn.metrics\n",
    "for cluster_in_question in range(0,9):\n",
    "    # get center of cluster\n",
    "    \"centroid\", Exp_cluster.cluster_centers_[cluster_in_question]\n",
    "    # grab categories in dataframe that belong to this cluster\n",
    "    categories = Exp_data_target[numpy.where(y_kmeans == cluster_in_question, True, False)]['category']\n",
    "    # look at top five qualities in cluster\n",
    "    print sorted(zip(Exp_data_target.columns[1:], Exp_cluster.cluster_centers_[cluster_in_question]), key=lambda x:x[1], reverse=True)[1:6]\n",
    "    print\n",
    " \n",
    "sklearn.metrics.silhouette_score(Exp_data, Exp_cluster.labels_, metric='euclidean')   "
   ]
  },
  {
   "cell_type": "code",
   "execution_count": 335,
   "metadata": {
    "collapsed": true
   },
   "outputs": [],
   "source": [
    "# I'm not sure how to interpret the results above :("
   ]
  },
  {
   "cell_type": "code",
   "execution_count": 346,
   "metadata": {
    "collapsed": true
   },
   "outputs": [],
   "source": [
    "# perform k means with up to 20 clusters\n",
    "k_rng = range(1,20)\n",
    "est = [sklearn.cluster.KMeans(n_clusters = k).fit(Exp_data) for k in k_rng]"
   ]
  },
  {
   "cell_type": "code",
   "execution_count": 347,
   "metadata": {
    "collapsed": false
   },
   "outputs": [
    {
     "data": {
      "text/plain": [
       "[<matplotlib.lines.Line2D at 0x11b900490>]"
      ]
     },
     "execution_count": 347,
     "metadata": {},
     "output_type": "execute_result"
    },
    {
     "data": {
      "image/png": "[encoded data removed]",
      "text/plain": [
       "<matplotlib.figure.Figure at 0x1211f7610>"
      ]
     },
     "metadata": {},
     "output_type": "display_data"
    }
   ],
   "source": [
    "# What do these clusters look like?\n",
    "\n",
    "scores = []\n",
    "for  i in range (2, 21):\n",
    "        clustereri =  sklearn.cluster.KMeans(n_clusters=i)\n",
    "        cluster_suggestionsi = clustereri.fit_predict(Exp_data)\n",
    "        scores.append (sklearn.metrics.silhouette_score(Exp_data, cluster_suggestionsi))\n",
    "#scores\n",
    "\n",
    "%matplotlib inline\n",
    "plt.plot(range(2,21),scores)"
   ]
  },
  {
   "cell_type": "code",
   "execution_count": 266,
   "metadata": {
    "collapsed": false
   },
   "outputs": [],
   "source": [
    "# The elbow could be 6"
   ]
  },
  {
   "cell_type": "code",
   "execution_count": 371,
   "metadata": {
    "collapsed": false
   },
   "outputs": [
    {
     "data": {
      "text/plain": [
       "array([0, 1, 2, 3, 4, 5], dtype=int32)"
      ]
     },
     "execution_count": 371,
     "metadata": {},
     "output_type": "execute_result"
    }
   ],
   "source": [
    "import sklearn.cluster\n",
    "Exp_cluster = sklearn.cluster.KMeans(n_clusters=6, init='random')\n",
    "Exp_cluster.fit(Exp_data)\n",
    "y_kmeans = Exp_cluster.predict(Exp_data)\n",
    "\n",
    "numpy.unique(y_kmeans)"
   ]
  },
  {
   "cell_type": "code",
   "execution_count": 385,
   "metadata": {
    "collapsed": false
   },
   "outputs": [
    {
     "data": {
      "image/png": "[encoded data removed]",
      "text/plain": [
       "<matplotlib.figure.Figure at 0x11c822090>"
      ]
     },
     "metadata": {},
     "output_type": "display_data"
    }
   ],
   "source": [
    "#3D plot -- I tried to plot the columns/attributes with the largest count, \n",
    "# but I couldn't figure out a good way to visualise clusters\n",
    "from mpl_toolkits.mplot3d import Axes3D\n",
    "%matplotlib inline\n",
    "\n",
    "colors = numpy.array([x for x in 'bgrcmykbgrcmykbgrcmykbgrcmyk'])\n",
    "colors = numpy.hstack([colors] * 20)\n",
    "colour_by_cluster = colors[y_kmeans]\n",
    "\n",
    "x = numpy.array(Exp_data.id_sup_84)\n",
    "y = numpy.array(Exp_data.source_0)\n",
    "z = numpy.array(Exp_data.id_acc_4)\n",
    "fig = plt.figure()\n",
    "ax = fig.add_subplot(111, projection='3d')\n",
    "ax.scatter(x, y, z, c=colour_by_cluster)\n",
    "ax.set_xlabel('main supplier')\n",
    "ax.set_ylabel('main source')\n",
    "ax.set_zlabel('main account')\n",
    "plt.show()"
   ]
  },
  {
   "cell_type": "code",
   "execution_count": 377,
   "metadata": {
    "collapsed": false
   },
   "outputs": [
    {
     "data": {
      "text/plain": [
       "array([  0,   1,   1, ..., 157, 157,  -1])"
      ]
     },
     "execution_count": 377,
     "metadata": {},
     "output_type": "execute_result"
    }
   ],
   "source": [
    "# DBSCAN\n",
    "\n",
    "dbscan = sklearn.cluster.DBSCAN(eps = 0.4, min_samples = 3)\n",
    "dbscan_suggestions = dbscan.fit_predict(Exp_data)\n",
    "dbscan_suggestions"
   ]
  },
  {
   "cell_type": "code",
   "execution_count": 378,
   "metadata": {
    "collapsed": false
   },
   "outputs": [
    {
     "data": {
      "text/plain": [
       "array([ -1,   0,   1,   2,   3,   4,   5,   6,   7,   8,   9,  10,  11,\n",
       "        12,  13,  14,  15,  16,  17,  18,  19,  20,  21,  22,  23,  24,\n",
       "        25,  26,  27,  28,  29,  30,  31,  32,  33,  34,  35,  36,  37,\n",
       "        38,  39,  40,  41,  42,  43,  44,  45,  46,  47,  48,  49,  50,\n",
       "        51,  52,  53,  54,  55,  56,  57,  58,  59,  60,  61,  62,  63,\n",
       "        64,  65,  66,  67,  68,  69,  70,  71,  72,  73,  74,  75,  76,\n",
       "        77,  78,  79,  80,  81,  82,  83,  84,  85,  86,  87,  88,  89,\n",
       "        90,  91,  92,  93,  94,  95,  96,  97,  98,  99, 100, 101, 102,\n",
       "       103, 104, 105, 106, 107, 108, 109, 110, 111, 112, 113, 114, 115,\n",
       "       116, 117, 118, 119, 120, 121, 122, 123, 124, 125, 126, 127, 128,\n",
       "       129, 130, 131, 132, 133, 134, 135, 136, 137, 138, 139, 140, 141,\n",
       "       142, 143, 144, 145, 146, 147, 148, 149, 150, 151, 152, 153, 154,\n",
       "       155, 156, 157])"
      ]
     },
     "execution_count": 378,
     "metadata": {},
     "output_type": "execute_result"
    }
   ],
   "source": [
    "#clusters found\n",
    "numpy.unique(dbscan_suggestions)"
   ]
  },
  {
   "cell_type": "code",
   "execution_count": 379,
   "metadata": {
    "collapsed": false
   },
   "outputs": [
    {
     "data": {
      "text/plain": [
       "[<matplotlib.lines.Line2D at 0x11b99ce50>]"
      ]
     },
     "execution_count": 379,
     "metadata": {},
     "output_type": "execute_result"
    },
    {
     "data": {
      "image/png": "[encoded data removed]",
      "text/plain": [
       "<matplotlib.figure.Figure at 0x11b3e5210>"
      ]
     },
     "metadata": {},
     "output_type": "display_data"
    }
   ],
   "source": [
    "# What do these clusters look like?\n",
    "\n",
    "scores = []\n",
    "for  i in range (2, 10):\n",
    "        dbscani =  sklearn.cluster.DBSCAN(eps = 0.4, min_samples = i)\n",
    "        dbscan_suggestionsi = dbscani.fit_predict(Exp_data)\n",
    "        scores.append (sklearn.metrics.silhouette_score(Exp_data, dbscan_suggestionsi))\n",
    "#scores\n",
    "\n",
    "%matplotlib inline\n",
    "plt.plot(range(2,10),scores)"
   ]
  },
  {
   "cell_type": "code",
   "execution_count": 380,
   "metadata": {
    "collapsed": true
   },
   "outputs": [],
   "source": [
    "# Elbow in min_sample = 3"
   ]
  },
  {
   "cell_type": "code",
   "execution_count": 381,
   "metadata": {
    "collapsed": false
   },
   "outputs": [
    {
     "data": {
      "text/plain": [
       "array([  0,   1,   1, ..., 157, 157,  -1])"
      ]
     },
     "execution_count": 381,
     "metadata": {},
     "output_type": "execute_result"
    }
   ],
   "source": [
    "dbscan = sklearn.cluster.DBSCAN(eps = 0.4, min_samples = 3)\n",
    "dbscan_suggestions = dbscan.fit_predict(Exp_data)\n",
    "dbscan_suggestions"
   ]
  },
  {
   "cell_type": "code",
   "execution_count": 386,
   "metadata": {
    "collapsed": false
   },
   "outputs": [
    {
     "data": {
      "image/png": "[encoded data removed]",
      "text/plain": [
       "<matplotlib.figure.Figure at 0x11c7b0b90>"
      ]
     },
     "metadata": {},
     "output_type": "display_data"
    }
   ],
   "source": [
    "#3D plot\n",
    "from mpl_toolkits.mplot3d import Axes3D\n",
    "%matplotlib inline\n",
    "\n",
    "colors = numpy.array([x for x in 'bgrcmykbgrcmykbgrcmykbgrcmyk'])\n",
    "colors = numpy.hstack([colors] * 20)\n",
    "colour_by_cluster = colors[dbscan_suggestions]\n",
    "\n",
    "x = numpy.array(Exp_data.id_sup_84)\n",
    "y = numpy.array(Exp_data.source_0)\n",
    "z = numpy.array(Exp_data.id_acc_4)\n",
    "fig = plt.figure()\n",
    "ax = fig.add_subplot(111, projection='3d')\n",
    "ax.scatter(x, y, z, c=colour_by_cluster)\n",
    "ax.set_xlabel('main supplier')\n",
    "ax.set_ylabel('main source')\n",
    "ax.set_zlabel('main account')\n",
    "plt.show()"
   ]
  },
  {
   "cell_type": "markdown",
   "metadata": {},
   "source": [
    "###### supervised learning using clusters"
   ]
  },
  {
   "cell_type": "code",
   "execution_count": 459,
   "metadata": {
    "collapsed": false
   },
   "outputs": [
    {
     "data": {
      "text/plain": [
       "KNeighborsClassifier(algorithm='auto', leaf_size=30, metric='minkowski',\n",
       "           metric_params=None, n_jobs=1, n_neighbors=3, p=2,\n",
       "           weights='uniform')"
      ]
     },
     "execution_count": 459,
     "metadata": {},
     "output_type": "execute_result"
    }
   ],
   "source": [
    "import sklearn.neighbors\n",
    "knn = sklearn.neighbors.KNeighborsClassifier(n_neighbors=3)\n",
    "knn.fit(Exp_data, Exp_target.category)"
   ]
  },
  {
   "cell_type": "code",
   "execution_count": 449,
   "metadata": {
    "collapsed": true
   },
   "outputs": [],
   "source": [
    "import sklearn.cross_validation \n",
    "knc = sklearn.neighbors.KNeighborsClassifier(n_neighbors=3)\n",
    "\n",
    "(trainX, testX, trainY, testY) = sklearn.cross_validation.train_test_split(\n",
    " Exp_data, Exp_target.category\n",
    ")"
   ]
  },
  {
   "cell_type": "code",
   "execution_count": 450,
   "metadata": {
    "collapsed": false
   },
   "outputs": [
    {
     "data": {
      "text/plain": [
       "KNeighborsClassifier(algorithm='auto', leaf_size=30, metric='minkowski',\n",
       "           metric_params=None, n_jobs=1, n_neighbors=3, p=2,\n",
       "           weights='uniform')"
      ]
     },
     "execution_count": 450,
     "metadata": {},
     "output_type": "execute_result"
    }
   ],
   "source": [
    "knc.fit(trainX, trainY)"
   ]
  },
  {
   "cell_type": "code",
   "execution_count": 451,
   "metadata": {
    "collapsed": false
   },
   "outputs": [
    {
     "name": "stdout",
     "output_type": "stream",
     "text": [
      "0.986206896552\n"
     ]
    },
    {
     "data": {
      "image/png": "[encoded data removed]",
      "text/plain": [
       "<matplotlib.figure.Figure at 0x12add1b90>"
      ]
     },
     "metadata": {},
     "output_type": "display_data"
    }
   ],
   "source": [
    "predictions = knc.predict(testX)\n",
    "plt.scatter(testY,predictions)\n",
    "print sklearn.metrics.accuracy_score(testY, predictions)"
   ]
  },
  {
   "cell_type": "code",
   "execution_count": 452,
   "metadata": {
    "collapsed": false
   },
   "outputs": [
    {
     "data": {
      "text/plain": [
       "<matplotlib.collections.PathCollection at 0x1298bcbd0>"
      ]
     },
     "execution_count": 452,
     "metadata": {},
     "output_type": "execute_result"
    },
    {
     "data": {
      "image/png": "[encoded data removed]",
      "text/plain": [
       "<matplotlib.figure.Figure at 0x11cdd2650>"
      ]
     },
     "metadata": {},
     "output_type": "display_data"
    }
   ],
   "source": [
    "plt.scatter(testY,predictions,cmap=plt.cm.rainbow, c=testX.id_acc_4)\n",
    "# This account should be the same category (if account = 62201922 then category = 210-001)"
   ]
  },
  {
   "cell_type": "code",
   "execution_count": 453,
   "metadata": {
    "collapsed": false
   },
   "outputs": [
    {
     "data": {
      "text/plain": [
       "array([ 0.97952218,  0.97952218,  1.        ,  1.        ,  1.        ,\n",
       "        0.99310345,  0.97577855,  0.98958333,  0.98601399,  0.98947368])"
      ]
     },
     "execution_count": 453,
     "metadata": {},
     "output_type": "execute_result"
    }
   ],
   "source": [
    "sklearn.cross_validation.cross_val_score(sklearn.neighbors.KNeighborsClassifier(),#or (n_neighbors = 10)\n",
    "                                         Exp_data,\n",
    "                                         Exp_target.category,\n",
    "                                         cv = 10, #increasing this number may takes more time, but it could be more accurate\n",
    "                                         scoring = 'accuracy'\n",
    "                                         )"
   ]
  },
  {
   "cell_type": "markdown",
   "metadata": {},
   "source": [
    "###### Bruteforce"
   ]
  },
  {
   "cell_type": "code",
   "execution_count": 454,
   "metadata": {
    "collapsed": true
   },
   "outputs": [],
   "source": [
    "import sklearn.grid_search"
   ]
  },
  {
   "cell_type": "code",
   "execution_count": 455,
   "metadata": {
    "collapsed": false
   },
   "outputs": [
    {
     "data": {
      "text/plain": [
       "GridSearchCV(cv=25, error_score='raise',\n",
       "       estimator=KNeighborsClassifier(algorithm='auto', leaf_size=30, metric='minkowski',\n",
       "           metric_params=None, n_jobs=1, n_neighbors=5, p=2,\n",
       "           weights='uniform'),\n",
       "       fit_params={}, iid=True, n_jobs=1,\n",
       "       param_grid={'n_neighbors': [1, 2, 3, 4, 5, 6, 7, 8, 9, 10]},\n",
       "       pre_dispatch='2*n_jobs', refit=True, scoring='accuracy', verbose=0)"
      ]
     },
     "execution_count": 455,
     "metadata": {},
     "output_type": "execute_result"
    }
   ],
   "source": [
    "param_grid = {\n",
    "    'n_neighbors': [1,2,3,4,5,6,7,8,9,10]\n",
    "}\n",
    "\n",
    "BruteForce = sklearn.grid_search.GridSearchCV(\n",
    "    sklearn.neighbors.KNeighborsClassifier(),\n",
    "    param_grid = param_grid,\n",
    "    scoring = 'accuracy',\n",
    "    cv=25\n",
    ")\n",
    "BruteForce.fit(Exp_data, Exp_target.category)"
   ]
  },
  {
   "cell_type": "code",
   "execution_count": 456,
   "metadata": {
    "collapsed": false
   },
   "outputs": [
    {
     "data": {
      "text/plain": [
       "{'n_neighbors': 1}"
      ]
     },
     "execution_count": 456,
     "metadata": {},
     "output_type": "execute_result"
    }
   ],
   "source": [
    "BruteForce.best_params_"
   ]
  },
  {
   "cell_type": "code",
   "execution_count": 457,
   "metadata": {
    "collapsed": false
   },
   "outputs": [
    {
     "data": {
      "text/plain": [
       "0.99344601586754055"
      ]
     },
     "execution_count": 457,
     "metadata": {},
     "output_type": "execute_result"
    }
   ],
   "source": [
    "BruteForce.best_score_"
   ]
  },
  {
   "cell_type": "code",
   "execution_count": 460,
   "metadata": {
    "collapsed": false
   },
   "outputs": [
    {
     "data": {
      "text/plain": [
       "KNeighborsClassifier(algorithm='auto', leaf_size=30, metric='minkowski',\n",
       "           metric_params=None, n_jobs=1, n_neighbors=1, p=2,\n",
       "           weights='uniform')"
      ]
     },
     "execution_count": 460,
     "metadata": {},
     "output_type": "execute_result"
    }
   ],
   "source": [
    "import sklearn.neighbors\n",
    "knn = sklearn.neighbors.KNeighborsClassifier(n_neighbors=1)\n",
    "knn.fit(Exp_data, Exp_target.category)"
   ]
  },
  {
   "cell_type": "markdown",
   "metadata": {},
   "source": [
    "###### Dummy classifier"
   ]
  },
  {
   "cell_type": "code",
   "execution_count": 448,
   "metadata": {
    "collapsed": false
   },
   "outputs": [
    {
     "name": "stdout",
     "output_type": "stream",
     "text": [
      "0.852413793103\n"
     ]
    }
   ],
   "source": [
    "(trainX, testX, trainY, testY) = sklearn.cross_validation.train_test_split(\n",
    " Exp_data, Exp_target.category)\n",
    "\n",
    "import sklearn.dummy\n",
    "dumb = sklearn.dummy.DummyClassifier(strategy = 'most_frequent')\n",
    "dumb.fit(trainX, trainY)\n",
    "y_dumb_class = dumb.predict(testX)\n",
    "print sklearn.metrics.accuracy_score(testY, y_dumb_class)\n"
   ]
  },
  {
   "cell_type": "markdown",
   "metadata": {},
   "source": [
    "###### Clustering conclusions\n",
    "\n",
    "I was not able to visualise clusters in a way that help me understand if clusters work well.  Additionally, I think kmeans or dbscan might not be good for this kind of data with lots of attributes and many different densities.\n",
    "\n",
    "A conclusion, kind of intuition or lack of understanding ;), K-neighbors of 1 should work well to predict my categories because there are many cases where \"clusters of 1\" is all I have to train my model, so I could say that this is a model where overfitting is not such a bad thing. Does it make any sense?\n"
   ]
  },
  {
   "cell_type": "markdown",
   "metadata": {},
   "source": [
    "#### Decision Trees (pending...)"
   ]
  },
  {
   "cell_type": "code",
   "execution_count": null,
   "metadata": {
    "collapsed": true
   },
   "outputs": [],
   "source": []
  }
 ],
 "metadata": {
  "anaconda-cloud": {},
  "kernelspec": {
   "display_name": "Python [default]",
   "language": "python",
   "name": "python2"
  },
  "language_info": {
   "codemirror_mode": {
    "name": "ipython",
    "version": 2
   },
   "file_extension": ".py",
   "mimetype": "text/x-python",
   "name": "python",
   "nbconvert_exporter": "python",
   "pygments_lexer": "ipython2",
   "version": "2.7.12"
  }
 },
 "nbformat": 4,
 "nbformat_minor": 1
}
