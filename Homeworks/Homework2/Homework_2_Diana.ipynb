{
 "cells": [
  {
   "cell_type": "markdown",
   "metadata": {},
   "source": [
    "## DATA \n",
    "The original dataset has 38593 records, which is an entire year of expenses.\n",
    "\n",
    "Expenses are divided in 42 groups.  Each group has different categories (1 to n).  We are trying to predict categories for a given group according to its expense description. Additional columns like account number, supplier, source, and reference might be considered as parameters.\n",
    "\n",
    "The first group to analyse is Car Expenses. It has 2899 records and 9 categories.\n"
   ]
  },
  {
   "cell_type": "code",
   "execution_count": 566,
   "metadata": {
    "collapsed": false,
    "scrolled": true
   },
   "outputs": [
    {
     "data": {
      "text/html": [
       "<div>\n",
       "<table border=\"1\" class=\"dataframe\">\n",
       "  <thead>\n",
       "    <tr style=\"text-align: right;\">\n",
       "      <th></th>\n",
       "      <th>GROUP</th>\n",
       "      <th>ID_ACC</th>\n",
       "      <th>SUB_GROUP</th>\n",
       "      <th>ID_SUP</th>\n",
       "      <th>ID_JOU</th>\n",
       "      <th>MONTH</th>\n",
       "      <th>SOURCE</th>\n",
       "      <th>REF</th>\n",
       "      <th>DESC</th>\n",
       "      <th>AUX1</th>\n",
       "      <th>DB</th>\n",
       "      <th>ID_CC</th>\n",
       "      <th>CATEGORY</th>\n",
       "      <th>VALUE</th>\n",
       "      <th>COUNT</th>\n",
       "    </tr>\n",
       "  </thead>\n",
       "  <tbody>\n",
       "    <tr>\n",
       "      <th>0</th>\n",
       "      <td>CAR EXPENSES</td>\n",
       "      <td>62201115</td>\n",
       "      <td>210</td>\n",
       "      <td>P00000939</td>\n",
       "      <td>TES</td>\n",
       "      <td>8</td>\n",
       "      <td>SAP</td>\n",
       "      <td>0050003753</td>\n",
       "      <td>KR- 006 REEMBOLSO AGO 28</td>\n",
       "      <td>006</td>\n",
       "      <td>PPP</td>\n",
       "      <td>6578</td>\n",
       "      <td>210-006</td>\n",
       "      <td>2</td>\n",
       "      <td>1</td>\n",
       "    </tr>\n",
       "    <tr>\n",
       "      <th>1</th>\n",
       "      <td>CAR EXPENSES</td>\n",
       "      <td>62201916</td>\n",
       "      <td>210</td>\n",
       "      <td>P00001179</td>\n",
       "      <td>NOM</td>\n",
       "      <td>1</td>\n",
       "      <td>ADP</td>\n",
       "      <td>103</td>\n",
       "      <td>Gasolina</td>\n",
       "      <td>na</td>\n",
       "      <td>PPP</td>\n",
       "      <td>6578</td>\n",
       "      <td>210-001</td>\n",
       "      <td>8</td>\n",
       "      <td>1</td>\n",
       "    </tr>\n",
       "  </tbody>\n",
       "</table>\n",
       "</div>"
      ],
      "text/plain": [
       "          GROUP    ID_ACC  SUB_GROUP     ID_SUP ID_JOU  MONTH SOURCE  \\\n",
       "0  CAR EXPENSES  62201115        210  P00000939    TES      8    SAP   \n",
       "1  CAR EXPENSES  62201916        210  P00001179    NOM      1    ADP   \n",
       "\n",
       "          REF                      DESC AUX1   DB  ID_CC CATEGORY  VALUE  \\\n",
       "0  0050003753  KR- 006 REEMBOLSO AGO 28  006  PPP   6578  210-006      2   \n",
       "1         103                  Gasolina   na  PPP   6578  210-001      8   \n",
       "\n",
       "   COUNT  \n",
       "0      1  \n",
       "1      1  "
      ]
     },
     "execution_count": 566,
     "metadata": {},
     "output_type": "execute_result"
    }
   ],
   "source": [
    "import pandas\n",
    "import numpy\n",
    "Exp_csv = pandas.read_csv('/Users/dianagalarza/Documents/DataScience/Project/SampleData_210_610.csv')\n",
    "Exp_csv.head(2)"
   ]
  },
  {
   "cell_type": "code",
   "execution_count": 567,
   "metadata": {
    "collapsed": false
   },
   "outputs": [
    {
     "data": {
      "text/plain": [
       "['GROUP',\n",
       " 'ID_ACC',\n",
       " 'SUB_GROUP',\n",
       " 'ID_SUP',\n",
       " 'ID_JOU',\n",
       " 'MONTH',\n",
       " 'SOURCE',\n",
       " 'REF',\n",
       " 'DESC',\n",
       " 'AUX1',\n",
       " 'DB',\n",
       " 'ID_CC',\n",
       " 'CATEGORY',\n",
       " 'VALUE',\n",
       " 'COUNT']"
      ]
     },
     "execution_count": 567,
     "metadata": {},
     "output_type": "execute_result"
    }
   ],
   "source": [
    "list(Exp_csv)"
   ]
  },
  {
   "cell_type": "code",
   "execution_count": 568,
   "metadata": {
    "collapsed": false
   },
   "outputs": [
    {
     "data": {
      "text/plain": [
       "array(['210-006', '210-001', '210-008', '210-005', '210-999', '210-007',\n",
       "       '210-004', '210-003', '210-002'], dtype=object)"
      ]
     },
     "execution_count": 568,
     "metadata": {},
     "output_type": "execute_result"
    }
   ],
   "source": [
    "# Categories - to be predicted\n",
    "Exp_csv.CATEGORY.unique()"
   ]
  },
  {
   "cell_type": "code",
   "execution_count": 569,
   "metadata": {
    "collapsed": false,
    "scrolled": true
   },
   "outputs": [
    {
     "data": {
      "text/plain": [
       "GROUP        object\n",
       "ID_ACC        int64\n",
       "SUB_GROUP     int64\n",
       "ID_SUP       object\n",
       "ID_JOU       object\n",
       "MONTH         int64\n",
       "SOURCE       object\n",
       "REF          object\n",
       "DESC         object\n",
       "AUX1         object\n",
       "DB           object\n",
       "ID_CC         int64\n",
       "CATEGORY     object\n",
       "VALUE         int64\n",
       "COUNT         int64\n",
       "dtype: object"
      ]
     },
     "execution_count": 569,
     "metadata": {},
     "output_type": "execute_result"
    }
   ],
   "source": [
    "Exp_csv.dtypes"
   ]
  },
  {
   "cell_type": "code",
   "execution_count": 570,
   "metadata": {
    "collapsed": false
   },
   "outputs": [
    {
     "data": {
      "text/plain": [
       "GROUP        2899\n",
       "ID_ACC       2899\n",
       "SUB_GROUP    2899\n",
       "ID_SUP       2895\n",
       "ID_JOU       2899\n",
       "MONTH        2899\n",
       "SOURCE       2875\n",
       "REF          2875\n",
       "DESC         2899\n",
       "AUX1         2899\n",
       "DB           2899\n",
       "ID_CC        2899\n",
       "CATEGORY     2899\n",
       "VALUE        2899\n",
       "COUNT        2899\n",
       "dtype: int64"
      ]
     },
     "execution_count": 570,
     "metadata": {},
     "output_type": "execute_result"
    }
   ],
   "source": [
    "Exp_csv.count()"
   ]
  },
  {
   "cell_type": "markdown",
   "metadata": {},
   "source": [
    "## DATA PREPROCESSING & ANALYSIS \n",
    "\n",
    "* Replace null values with NA: "
   ]
  },
  {
   "cell_type": "code",
   "execution_count": 571,
   "metadata": {
    "collapsed": false
   },
   "outputs": [],
   "source": [
    "Exp = Exp_csv.fillna({'ID_SUP':'NA', 'SOURCE':'NA', 'REF':'NA' })\n"
   ]
  },
  {
   "cell_type": "markdown",
   "metadata": {},
   "source": [
    "* Possible parameters:\n"
   ]
  },
  {
   "cell_type": "code",
   "execution_count": 149,
   "metadata": {
    "collapsed": false
   },
   "outputs": [
    {
     "data": {
      "text/plain": [
       "count         2899\n",
       "unique           6\n",
       "top       62201922\n",
       "freq          1696\n",
       "Name: ID_ACC, dtype: object"
      ]
     },
     "execution_count": 149,
     "metadata": {},
     "output_type": "execute_result"
    }
   ],
   "source": [
    "# Accounts\n",
    "Exp.ID_ACC.astype(str).describe()"
   ]
  },
  {
   "cell_type": "code",
   "execution_count": 148,
   "metadata": {
    "collapsed": false
   },
   "outputs": [
    {
     "data": {
      "text/plain": [
       "count     2899\n",
       "unique       2\n",
       "top        210\n",
       "freq      2860\n",
       "Name: SUB_GROUP, dtype: object"
      ]
     },
     "execution_count": 148,
     "metadata": {},
     "output_type": "execute_result"
    }
   ],
   "source": [
    "# Sub-groups\n",
    "Exp.SUB_GROUP.astype(str).describe()"
   ]
  },
  {
   "cell_type": "code",
   "execution_count": 166,
   "metadata": {
    "collapsed": false
   },
   "outputs": [
    {
     "data": {
      "text/plain": [
       "count          2899\n",
       "unique           85\n",
       "top       P00001179\n",
       "freq           2508\n",
       "Name: ID_SUP, dtype: object"
      ]
     },
     "execution_count": 166,
     "metadata": {},
     "output_type": "execute_result"
    }
   ],
   "source": [
    "# Suppliers\n",
    "Exp.ID_SUP.astype(str).describe()"
   ]
  },
  {
   "cell_type": "code",
   "execution_count": 150,
   "metadata": {
    "collapsed": false
   },
   "outputs": [
    {
     "data": {
      "text/plain": [
       "count     2899\n",
       "unique      14\n",
       "top        ADP\n",
       "freq      2416\n",
       "Name: SOURCE, dtype: object"
      ]
     },
     "execution_count": 150,
     "metadata": {},
     "output_type": "execute_result"
    }
   ],
   "source": [
    "#Sources\n",
    "Exp.SOURCE.astype(str).describe()"
   ]
  },
  {
   "cell_type": "code",
   "execution_count": 151,
   "metadata": {
    "collapsed": false
   },
   "outputs": [
    {
     "data": {
      "text/plain": [
       "count     2899\n",
       "unique       6\n",
       "top        NOM\n",
       "freq      2442\n",
       "Name: ID_JOU, dtype: object"
      ]
     },
     "execution_count": 151,
     "metadata": {},
     "output_type": "execute_result"
    }
   ],
   "source": [
    "#Journal Types\n",
    "Exp.ID_JOU.astype(str).describe()"
   ]
  },
  {
   "cell_type": "code",
   "execution_count": 165,
   "metadata": {
    "collapsed": false
   },
   "outputs": [
    {
     "data": {
      "text/plain": [
       "count       2899\n",
       "unique       555\n",
       "top       OPP-CA\n",
       "freq          35\n",
       "Name: REF, dtype: object"
      ]
     },
     "execution_count": 165,
     "metadata": {},
     "output_type": "execute_result"
    }
   ],
   "source": [
    "# References - it is a kind of description, but shorter. It could be a date, a number, a code...\n",
    "Exp.REF.astype(str).describe()"
   ]
  },
  {
   "cell_type": "code",
   "execution_count": 154,
   "metadata": {
    "collapsed": false
   },
   "outputs": [
    {
     "data": {
      "text/plain": [
       "count               2899\n",
       "unique               276\n",
       "top       Car Allowances\n",
       "freq                 838\n",
       "Name: DESC, dtype: object"
      ]
     },
     "execution_count": 154,
     "metadata": {},
     "output_type": "execute_result"
    }
   ],
   "source": [
    "#Descriptions\n",
    "Exp.DESC.astype(str).describe()"
   ]
  },
  {
   "cell_type": "code",
   "execution_count": 591,
   "metadata": {
    "collapsed": false
   },
   "outputs": [
    {
     "data": {
      "text/plain": [
       "count     2899\n",
       "unique      13\n",
       "top         na\n",
       "freq      2529\n",
       "Name: AUX1, dtype: object"
      ]
     },
     "execution_count": 591,
     "metadata": {},
     "output_type": "execute_result"
    }
   ],
   "source": [
    "#Aux category\n",
    "# It is a substring of the description. It could be the category, but it is not always correct.\n",
    "Exp.AUX1.astype(str).describe()"
   ]
  },
  {
   "cell_type": "code",
   "execution_count": 161,
   "metadata": {
    "collapsed": false
   },
   "outputs": [
    {
     "data": {
      "text/plain": [
       "count     2899\n",
       "unique       2\n",
       "top        PPP\n",
       "freq      2505\n",
       "Name: DB, dtype: object"
      ]
     },
     "execution_count": 161,
     "metadata": {},
     "output_type": "execute_result"
    }
   ],
   "source": [
    "# Databases\n",
    "Exp.DB.astype(str).describe()"
   ]
  },
  {
   "cell_type": "code",
   "execution_count": 163,
   "metadata": {
    "collapsed": false
   },
   "outputs": [
    {
     "data": {
      "text/plain": [
       "count     2899\n",
       "unique      62\n",
       "top       6875\n",
       "freq       325\n",
       "Name: ID_CC, dtype: object"
      ]
     },
     "execution_count": 163,
     "metadata": {},
     "output_type": "execute_result"
    }
   ],
   "source": [
    "# Cost Centers\n",
    "Exp.ID_CC.astype(str).describe()"
   ]
  },
  {
   "cell_type": "code",
   "execution_count": 164,
   "metadata": {
    "collapsed": false
   },
   "outputs": [
    {
     "data": {
      "text/plain": [
       "count        2899\n",
       "unique          9\n",
       "top       210-001\n",
       "freq         2518\n",
       "Name: CATEGORY, dtype: object"
      ]
     },
     "execution_count": 164,
     "metadata": {},
     "output_type": "execute_result"
    }
   ],
   "source": [
    "#Category - this is the column we want to predict\n",
    "Exp.CATEGORY.astype(str).describe()"
   ]
  },
  {
   "cell_type": "markdown",
   "metadata": {},
   "source": [
    "In the Car Expenses sample data are  2 subgroups, 6 accounts, 85 suppliers, 14 sources, 6 journal types, 555 references, 276 descriptions, 13 auxiliar categories, 2 databases, 62 cost centers, and 9 Categories "
   ]
  },
  {
   "cell_type": "markdown",
   "metadata": {},
   "source": [
    "## Concatenating all strings to a single \"sentence\" \n",
    "#### Following a bag-of-words strategy, different columns are going to be concatenated to form a single \"sentece\"."
   ]
  },
  {
   "cell_type": "code",
   "execution_count": 294,
   "metadata": {
    "collapsed": false
   },
   "outputs": [
    {
     "data": {
      "text/html": [
       "<div>\n",
       "<table border=\"1\" class=\"dataframe\">\n",
       "  <thead>\n",
       "    <tr style=\"text-align: right;\">\n",
       "      <th></th>\n",
       "      <th>GROUP</th>\n",
       "      <th>ID_ACC</th>\n",
       "      <th>SUB_GROUP</th>\n",
       "      <th>ID_SUP</th>\n",
       "      <th>ID_JOU</th>\n",
       "      <th>MONTH</th>\n",
       "      <th>SOURCE</th>\n",
       "      <th>REF</th>\n",
       "      <th>DESC</th>\n",
       "      <th>AUX1</th>\n",
       "      <th>DB</th>\n",
       "      <th>ID_CC</th>\n",
       "      <th>CATEGORY</th>\n",
       "      <th>EXP</th>\n",
       "      <th>Long_Str</th>\n",
       "    </tr>\n",
       "  </thead>\n",
       "  <tbody>\n",
       "    <tr>\n",
       "      <th>0</th>\n",
       "      <td>CAR EXPENSES</td>\n",
       "      <td>62201115</td>\n",
       "      <td>210</td>\n",
       "      <td>P00000939</td>\n",
       "      <td>TES</td>\n",
       "      <td>8</td>\n",
       "      <td>SAP</td>\n",
       "      <td>0050003753</td>\n",
       "      <td>KR- 006 REEMBOLSO AGO 28</td>\n",
       "      <td>006</td>\n",
       "      <td>PPP</td>\n",
       "      <td>6578</td>\n",
       "      <td>210-006</td>\n",
       "      <td>2.0</td>\n",
       "      <td>62201115 P00000939 TES SAP 006 6578 KR- 006 RE...</td>\n",
       "    </tr>\n",
       "    <tr>\n",
       "      <th>1</th>\n",
       "      <td>CAR EXPENSES</td>\n",
       "      <td>62201916</td>\n",
       "      <td>210</td>\n",
       "      <td>P00001179</td>\n",
       "      <td>NOM</td>\n",
       "      <td>1</td>\n",
       "      <td>ADP</td>\n",
       "      <td>103</td>\n",
       "      <td>Gasolina</td>\n",
       "      <td>na</td>\n",
       "      <td>PPP</td>\n",
       "      <td>6578</td>\n",
       "      <td>210-001</td>\n",
       "      <td>8.4</td>\n",
       "      <td>62201916 P00001179 NOM ADP na 6578 Gasolina</td>\n",
       "    </tr>\n",
       "  </tbody>\n",
       "</table>\n",
       "</div>"
      ],
      "text/plain": [
       "          GROUP    ID_ACC  SUB_GROUP     ID_SUP ID_JOU  MONTH SOURCE  \\\n",
       "0  CAR EXPENSES  62201115        210  P00000939    TES      8    SAP   \n",
       "1  CAR EXPENSES  62201916        210  P00001179    NOM      1    ADP   \n",
       "\n",
       "          REF                      DESC AUX1   DB  ID_CC CATEGORY   EXP   \\\n",
       "0  0050003753  KR- 006 REEMBOLSO AGO 28  006  PPP   6578  210-006   2.0    \n",
       "1         103                  Gasolina   na  PPP   6578  210-001   8.4    \n",
       "\n",
       "                                            Long_Str  \n",
       "0  62201115 P00000939 TES SAP 006 6578 KR- 006 RE...  \n",
       "1        62201916 P00001179 NOM ADP na 6578 Gasolina  "
      ]
     },
     "execution_count": 294,
     "metadata": {},
     "output_type": "execute_result"
    }
   ],
   "source": [
    "Exp1 = Exp\n",
    "Exp1.head(2)"
   ]
  },
  {
   "cell_type": "markdown",
   "metadata": {},
   "source": [
    "First attempt, a single \"sentence\" with: Acount + Supplier + JournalType + Source + Auxiliar category + Cost Center + Description"
   ]
  },
  {
   "cell_type": "code",
   "execution_count": 565,
   "metadata": {
    "collapsed": false
   },
   "outputs": [],
   "source": [
    "Exp1['Long_Str'] = Exp1['ID_ACC'].astype(str) + ' ' + Exp1['ID_SUP'].astype(str) + ' ' + Exp1['ID_JOU'].astype(str) + ' ' +Exp1['SOURCE'].astype(str) + ' ' + Exp1['AUX1'].astype(str)   + ' ' + Exp1['ID_CC'].astype(str)  + ' ' + Exp1['DESC'].astype(str)\n"
   ]
  },
  {
   "cell_type": "code",
   "execution_count": 314,
   "metadata": {
    "collapsed": false
   },
   "outputs": [
    {
     "data": {
      "text/html": [
       "<div>\n",
       "<table border=\"1\" class=\"dataframe\">\n",
       "  <thead>\n",
       "    <tr style=\"text-align: right;\">\n",
       "      <th></th>\n",
       "      <th>Long_Str</th>\n",
       "    </tr>\n",
       "  </thead>\n",
       "  <tbody>\n",
       "    <tr>\n",
       "      <th>0</th>\n",
       "      <td>62201115 P00000939 TES SAP 006 6578 KR- 006 RE...</td>\n",
       "    </tr>\n",
       "    <tr>\n",
       "      <th>1</th>\n",
       "      <td>62201916 P00001179 NOM ADP na 6578 Gasolina</td>\n",
       "    </tr>\n",
       "    <tr>\n",
       "      <th>2</th>\n",
       "      <td>62201916 P00001179 NOM ADP na 6578 Gasolina</td>\n",
       "    </tr>\n",
       "    <tr>\n",
       "      <th>3</th>\n",
       "      <td>62201916 P00001179 NOM ADP na 6578 Gasolina</td>\n",
       "    </tr>\n",
       "    <tr>\n",
       "      <th>4</th>\n",
       "      <td>62201916 P00001179 NOM ADP na 6578 Gasolina</td>\n",
       "    </tr>\n",
       "  </tbody>\n",
       "</table>\n",
       "</div>"
      ],
      "text/plain": [
       "                                            Long_Str\n",
       "0  62201115 P00000939 TES SAP 006 6578 KR- 006 RE...\n",
       "1        62201916 P00001179 NOM ADP na 6578 Gasolina\n",
       "2        62201916 P00001179 NOM ADP na 6578 Gasolina\n",
       "3        62201916 P00001179 NOM ADP na 6578 Gasolina\n",
       "4        62201916 P00001179 NOM ADP na 6578 Gasolina"
      ]
     },
     "execution_count": 314,
     "metadata": {},
     "output_type": "execute_result"
    }
   ],
   "source": [
    "Exp1[['Long_Str']].head(5)"
   ]
  },
  {
   "cell_type": "markdown",
   "metadata": {},
   "source": [
    "#### The steps below were completed by following this tutorial:       http://radimrehurek.com/data_science_python/"
   ]
  },
  {
   "cell_type": "code",
   "execution_count": 275,
   "metadata": {
    "collapsed": false
   },
   "outputs": [],
   "source": [
    "#!pip install -U textblob\n",
    "#!python -m textblob.download_corpora\n"
   ]
  },
  {
   "cell_type": "code",
   "execution_count": 276,
   "metadata": {
    "collapsed": false
   },
   "outputs": [],
   "source": [
    "# Converting string to a vector\n",
    "from textblob import TextBlob\n",
    "def split_into_tokens(Long_Str):\n",
    "    message = unicode(Long_Str, 'utf8')  # convert bytes into proper unicode\n",
    "    return TextBlob(Long_Str).words"
   ]
  },
  {
   "cell_type": "code",
   "execution_count": 506,
   "metadata": {
    "collapsed": false
   },
   "outputs": [
    {
     "data": {
      "text/plain": [
       "0    [62201115, P00000939, TES, SAP, 006, 6578, KR,...\n",
       "1    [62201916, P00001179, NOM, ADP, na, 6578, Gaso...\n",
       "2    [62201916, P00001179, NOM, ADP, na, 6578, Gaso...\n",
       "3    [62201916, P00001179, NOM, ADP, na, 6578, Gaso...\n",
       "4    [62201916, P00001179, NOM, ADP, na, 6578, Gaso...\n",
       "Name: Long_Str, dtype: object"
      ]
     },
     "execution_count": 506,
     "metadata": {},
     "output_type": "execute_result"
    }
   ],
   "source": [
    "# Sample of strings as vectors\n",
    "Exp1.Long_Str.head().apply(split_into_tokens)"
   ]
  },
  {
   "cell_type": "markdown",
   "metadata": {},
   "source": [
    "* An attempt to normalize data. In this case, it is mostly codes, so I don't expect to be very helpful."
   ]
  },
  {
   "cell_type": "code",
   "execution_count": 295,
   "metadata": {
    "collapsed": false
   },
   "outputs": [],
   "source": [
    "def split_into_lemmas(Long_Str):\n",
    "    message = unicode(Long_Str, 'utf8').lower()\n",
    "    words = TextBlob(Long_Str).words\n",
    "    return [word.lemma for word in words]"
   ]
  },
  {
   "cell_type": "code",
   "execution_count": 296,
   "metadata": {
    "collapsed": false
   },
   "outputs": [
    {
     "data": {
      "text/plain": [
       "0    [62201115, P00000939, TES, SAP, 006, 6578, KR,...\n",
       "1    [62201916, P00001179, NOM, ADP, na, 6578, Gaso...\n",
       "2    [62201916, P00001179, NOM, ADP, na, 6578, Gaso...\n",
       "3    [62201916, P00001179, NOM, ADP, na, 6578, Gaso...\n",
       "4    [62201916, P00001179, NOM, ADP, na, 6578, Gaso...\n",
       "Name: Long_Str, dtype: object"
      ]
     },
     "execution_count": 296,
     "metadata": {},
     "output_type": "execute_result"
    }
   ],
   "source": [
    "Exp1.Long_Str.head(5).apply(split_into_lemmas)"
   ]
  },
  {
   "cell_type": "code",
   "execution_count": 297,
   "metadata": {
    "collapsed": true
   },
   "outputs": [],
   "source": [
    "# Now a sparse matrix is created using sklearn\n",
    "import sklearn\n",
    "from sklearn.feature_extraction.text import CountVectorizer, TfidfTransformer"
   ]
  },
  {
   "cell_type": "code",
   "execution_count": 298,
   "metadata": {
    "collapsed": false
   },
   "outputs": [
    {
     "name": "stdout",
     "output_type": "stream",
     "text": [
      "515\n"
     ]
    }
   ],
   "source": [
    "Exp_transformer = CountVectorizer(analyzer=split_into_lemmas).fit(Exp1['Long_Str'])\n",
    "print len(Exp_transformer.vocabulary_)"
   ]
  },
  {
   "cell_type": "code",
   "execution_count": 517,
   "metadata": {
    "collapsed": false
   },
   "outputs": [
    {
     "data": {
      "text/plain": [
       "'62201115 P00000939 TES SAP 006 6578 KR- 006 REEMBOLSO AGO 28'"
      ]
     },
     "execution_count": 517,
     "metadata": {},
     "output_type": "execute_result"
    }
   ],
   "source": [
    "# A sample record\n",
    "String1 = Exp1['Long_Str'][0]\n",
    "String1"
   ]
  },
  {
   "cell_type": "code",
   "execution_count": 518,
   "metadata": {
    "collapsed": false
   },
   "outputs": [
    {
     "name": "stdout",
     "output_type": "stream",
     "text": [
      "  (0, 15)\t2\n",
      "  (0, 121)\t1\n",
      "  (0, 136)\t1\n",
      "  (0, 171)\t1\n",
      "  (0, 218)\t1\n",
      "  (0, 321)\t1\n",
      "  (0, 387)\t1\n",
      "  (0, 452)\t1\n",
      "  (0, 465)\t1\n",
      "  (0, 480)\t1\n",
      "(1, 515)\n"
     ]
    }
   ],
   "source": [
    "# Sample record \n",
    "Vector = Exp_transformer.transform([String1])\n",
    "print Vector\n",
    "print Vector.shape"
   ]
  },
  {
   "cell_type": "markdown",
   "metadata": {},
   "source": [
    "It means there are 10 words, each one has a number assigned. The first word is found twice in the senctence."
   ]
  },
  {
   "cell_type": "code",
   "execution_count": 519,
   "metadata": {
    "collapsed": false
   },
   "outputs": [
    {
     "name": "stdout",
     "output_type": "stream",
     "text": [
      "sparse matrix shape: (2899, 515)\n",
      "number of non-zeros: 23206\n",
      "sparsity: 1.55%\n"
     ]
    }
   ],
   "source": [
    "# Checking the sparsity - The bag-of-words creates a large sparse matrix.\n",
    "Exp_info = Exp_transformer.transform(Exp1['Long_Str'])\n",
    "print 'sparse matrix shape:', Exp_info.shape\n",
    "print 'number of non-zeros:', Exp_info.nnz\n",
    "print 'sparsity: %.2f%%' % (100.0 * Exp_info.nnz / (Exp_info.shape[0] * Exp_info.shape[1]))"
   ]
  },
  {
   "cell_type": "code",
   "execution_count": 287,
   "metadata": {
    "collapsed": false
   },
   "outputs": [
    {
     "name": "stdout",
     "output_type": "stream",
     "text": [
      "  (0, 510)\t0.171581388257\n",
      "  (0, 439)\t0.172839767242\n",
      "  (0, 348)\t0.176864370023\n",
      "  (0, 300)\t0.351767779505\n",
      "  (0, 216)\t0.178479751982\n",
      "  (0, 171)\t0.797687593535\n",
      "  (0, 138)\t0.342788779332\n"
     ]
    }
   ],
   "source": [
    "# Term frequency - weight and normalization\n",
    "tfidf_transformer = TfidfTransformer().fit(Exp_info)\n",
    "tfidf4 = tfidf_transformer.transform(Vector)\n",
    "print tfidf4"
   ]
  },
  {
   "cell_type": "markdown",
   "metadata": {},
   "source": [
    "\"tf–idf, short for term frequency–inverse document frequency, is a numerical statistic that is intended to reflect how important a word is to a document in a collection or corpus. It is often used as a weighting factor in information retrieval, text mining, and user modeling. The tf-idf value increases proportionally to the number of times a word appears in the document, but is offset by the frequency of the word in the corpus, which helps to adjust for the fact that some words appear more frequently in general.\"\n",
    "(from wikipedia)"
   ]
  },
  {
   "cell_type": "code",
   "execution_count": 301,
   "metadata": {
    "collapsed": false
   },
   "outputs": [
    {
     "name": "stdout",
     "output_type": "stream",
     "text": [
      "3.81917442148\n",
      "2.32997921461\n"
     ]
    }
   ],
   "source": [
    "#frequency of sample codes/words\n",
    "print tfidf_transformer.idf_[Exp_transformer.vocabulary_['006']]\n",
    "print tfidf_transformer.idf_[Exp_transformer.vocabulary_['Gasolina']]"
   ]
  },
  {
   "cell_type": "code",
   "execution_count": 308,
   "metadata": {
    "collapsed": false
   },
   "outputs": [
    {
     "data": {
      "text/plain": [
       "(2899, 515)"
      ]
     },
     "execution_count": 308,
     "metadata": {},
     "output_type": "execute_result"
    }
   ],
   "source": [
    "# Transform the entire bag-of-workds corpus \n",
    "Exp1_tfidf = tfidf_transformer.transform(Exp_info)\n",
    "Exp1_tfidf.shape"
   ]
  },
  {
   "cell_type": "code",
   "execution_count": 310,
   "metadata": {
    "collapsed": false
   },
   "outputs": [
    {
     "data": {
      "text/plain": [
       "<2899x515 sparse matrix of type '<type 'numpy.float64'>'\n",
       "\twith 23206 stored elements in Compressed Sparse Row format>"
      ]
     },
     "execution_count": 310,
     "metadata": {},
     "output_type": "execute_result"
    }
   ],
   "source": [
    "Exp1_tfidf"
   ]
  },
  {
   "cell_type": "markdown",
   "metadata": {},
   "source": [
    "## Data Training"
   ]
  },
  {
   "cell_type": "code",
   "execution_count": 303,
   "metadata": {
    "collapsed": true
   },
   "outputs": [],
   "source": [
    "# Naive Bayes Classification\n",
    "from sklearn.naive_bayes import MultinomialNB"
   ]
  },
  {
   "cell_type": "code",
   "execution_count": 313,
   "metadata": {
    "collapsed": false
   },
   "outputs": [
    {
     "name": "stdout",
     "output_type": "stream",
     "text": [
      "CPU times: user 8.01 ms, sys: 1.3 ms, total: 9.31 ms\n",
      "Wall time: 8.56 ms\n"
     ]
    }
   ],
   "source": [
    "# time tracking of classifier\n",
    "%time category_detector = MultinomialNB().fit(Exp1_tfidf, Exp1['CATEGORY'])"
   ]
  },
  {
   "cell_type": "code",
   "execution_count": 319,
   "metadata": {
    "collapsed": false
   },
   "outputs": [
    {
     "name": "stdout",
     "output_type": "stream",
     "text": [
      " predicted: 210-001\n",
      "expected: 210-001\n"
     ]
    }
   ],
   "source": [
    "# testing a single row \n",
    "\n",
    "print 'predicted:', category_detector.predict(Vector)[0]\n",
    "print 'expected:', Exp1.CATEGORY[1]"
   ]
  },
  {
   "cell_type": "code",
   "execution_count": 388,
   "metadata": {
    "collapsed": false
   },
   "outputs": [],
   "source": [
    "# Pipeline - includes 3 steps into one\n",
    "from sklearn.metrics import classification_report, f1_score, accuracy_score, confusion_matrix\n",
    "from sklearn.pipeline import Pipeline\n",
    "pipeline = Pipeline([\n",
    "    ('bow', CountVectorizer(analyzer=split_into_lemmas)),  # strings to token integer counts\n",
    "    ('tfidf', TfidfTransformer()),  # integer counts to weighted TF-IDF scores\n",
    "    ('classifier', MultinomialNB()),  # train on TF-IDF vectors w/ Naive Bayes classifier\n",
    "])"
   ]
  },
  {
   "cell_type": "code",
   "execution_count": 394,
   "metadata": {
    "collapsed": false
   },
   "outputs": [
    {
     "data": {
      "text/plain": [
       "array(['210-001'], \n",
       "      dtype='|S7')"
      ]
     },
     "execution_count": 394,
     "metadata": {},
     "output_type": "execute_result"
    }
   ],
   "source": [
    "# pipeline test\n",
    "example = ['62201916 P00001179 NOM ADP na 6578 Gasolina']\n",
    "pipeline.fit(Exp2['Long_Str'].values, Exp2['CATEGORY'].values)\n",
    "pipeline.predict(example) "
   ]
  },
  {
   "cell_type": "code",
   "execution_count": 372,
   "metadata": {
    "collapsed": false
   },
   "outputs": [
    {
     "name": "stdout",
     "output_type": "stream",
     "text": [
      "2319 580 2899\n"
     ]
    }
   ],
   "source": [
    "# Selecting data to train\n",
    "import sklearn.cross_validation \n",
    "(str_train, str_test, category_train, category_test) = sklearn.cross_validation.train_test_split(\n",
    "    Exp1['Long_Str'], Exp1['CATEGORY'], test_size=0.2)\n",
    "\n",
    "print len(str_train), len(str_test), len(str_train) + len(str_test)"
   ]
  },
  {
   "cell_type": "code",
   "execution_count": 374,
   "metadata": {
    "collapsed": false
   },
   "outputs": [
    {
     "name": "stdout",
     "output_type": "stream",
     "text": [
      "[ 0.96794872  0.96781116  0.96344086  0.97826087  0.97608696]\n"
     ]
    }
   ],
   "source": [
    "#Cross validation - accuracy\n",
    "scores = sklearn.cross_validation.cross_val_score(pipeline,  # steps to convert raw messages into models\n",
    "                         str_train,  # training data\n",
    "                         category_train,  # training categories\n",
    "                         cv=5,  # split data randomly into 5 parts: X for training, 1 for scoring\n",
    "                         scoring='accuracy',  # which scoring metric?\n",
    "                         n_jobs=-1,  # -1 = use all cores = faster\n",
    "                         )\n",
    "print scores"
   ]
  },
  {
   "cell_type": "code",
   "execution_count": 375,
   "metadata": {
    "collapsed": false
   },
   "outputs": [
    {
     "name": "stdout",
     "output_type": "stream",
     "text": [
      "0.97070971261 0.00556409281567\n"
     ]
    }
   ],
   "source": [
    "print scores.mean(), scores.std()"
   ]
  },
  {
   "cell_type": "markdown",
   "metadata": {},
   "source": [
    "#### The K-fold validation was completed using this tutorial: http://zacstewart.com/2015/04/28/document-classification-with-scikit-learn.html"
   ]
  },
  {
   "cell_type": "code",
   "execution_count": 442,
   "metadata": {
    "collapsed": false
   },
   "outputs": [
    {
     "name": "stderr",
     "output_type": "stream",
     "text": [
      "/Users/dianagalarza/anaconda/lib/python2.7/site-packages/sklearn/metrics/classification.py:756: DeprecationWarning: The default `weighted` averaging is deprecated, and from version 0.18, use of precision, recall or F-score with multiclass or multilabel data or pos_label=None will result in an exception. Please set an explicit value for `average`, one of (None, 'micro', 'macro', 'weighted', 'samples'). In cross validation use, for instance, scoring=\"f1_weighted\" instead of scoring=\"f1\".\n",
      "  sample_weight=sample_weight)\n"
     ]
    },
    {
     "name": "stdout",
     "output_type": "stream",
     "text": [
      "('Total desc classified:', 2899)\n",
      "('Score:', 0.96504603498349284)\n",
      "Confusion matrix:\n",
      "[[2518    0    0    0    0    0    0    0    0]\n",
      " [   0    0    0    2    0   12    0    0    0]\n",
      " [   0    0    1    3    0   10    0    0    0]\n",
      " [   0    0    0   69    0    0    0    0    0]\n",
      " [   0    0    0    1    9   18    0    0    0]\n",
      " [   2    0    0    0    0  183    0    0    1]\n",
      " [   2    0    0    0    0    1    0    3    4]\n",
      " [   0    0    0    0    0    7    0   16    0]\n",
      " [   4    0    0    0    0   11    0    0   22]]\n"
     ]
    },
    {
     "name": "stderr",
     "output_type": "stream",
     "text": [
      "/Users/dianagalarza/anaconda/lib/python2.7/site-packages/sklearn/metrics/classification.py:756: DeprecationWarning: The default `weighted` averaging is deprecated, and from version 0.18, use of precision, recall or F-score with multiclass or multilabel data or pos_label=None will result in an exception. Please set an explicit value for `average`, one of (None, 'micro', 'macro', 'weighted', 'samples'). In cross validation use, for instance, scoring=\"f1_weighted\" instead of scoring=\"f1\".\n",
      "  sample_weight=sample_weight)\n"
     ]
    }
   ],
   "source": [
    "# K-Fold cross validation \n",
    "\n",
    "CAT = '210-001'\n",
    "Exp2 = Exp1[['CATEGORY','Long_Str']]\n",
    "\n",
    "from sklearn.cross_validation import KFold\n",
    "from sklearn.metrics import confusion_matrix, f1_score\n",
    "\n",
    "k_fold = KFold(n=len(Exp2), n_folds=2)\n",
    "scores1 = []\n",
    "confusion = numpy.array([ [0, 0, 0, 0, 0, 0, 0, 0, 0], [0, 0, 0, 0, 0, 0, 0, 0, 0] , [0, 0, 0, 0, 0, 0, 0, 0, 0] , [0, 0, 0, 0, 0, 0, 0, 0, 0] , [0, 0, 0, 0, 0, 0, 0, 0, 0] , [0, 0, 0, 0, 0, 0, 0, 0, 0] , [0, 0, 0, 0, 0, 0, 0, 0, 0] , [0, 0, 0, 0, 0, 0, 0, 0, 0] , [0, 0, 0, 0, 0, 0, 0, 0, 0]  ])\n",
    "for category_train, category_test in k_fold:\n",
    "    str_train = Exp2.iloc[category_train]['Long_Str'].values\n",
    "    train_y = Exp2.iloc[category_train]['CATEGORY'].values\n",
    "\n",
    "    str_test = Exp2.iloc[category_test]['Long_Str'].values\n",
    "    test_y = Exp2.iloc[category_test]['CATEGORY'].values\n",
    "\n",
    "    pipeline.fit(str_train, train_y)\n",
    "    predictions = pipeline.predict(str_test)\n",
    "\n",
    "    confusion += confusion_matrix(test_y, predictions)\n",
    "    score = f1_score(test_y, predictions, pos_label=CAT)\n",
    "    scores1.append(score)\n",
    "\n",
    "print('Total desc classified:', len(Exp2))\n",
    "print('Score:', sum(scores1)/len(scores1))\n",
    "print('Confusion matrix:')\n",
    "print(confusion)\n"
   ]
  },
  {
   "cell_type": "markdown",
   "metadata": {},
   "source": [
    "## Improving the model"
   ]
  },
  {
   "cell_type": "code",
   "execution_count": 445,
   "metadata": {
    "collapsed": false
   },
   "outputs": [],
   "source": [
    "# testing without normalization \n",
    "\n",
    "# Pipeline - includes 3 steps into one\n",
    "from sklearn.metrics import classification_report, f1_score, accuracy_score, confusion_matrix\n",
    "from sklearn.pipeline import Pipeline\n",
    "pipeline = Pipeline([\n",
    "    ('bow', CountVectorizer(analyzer=split_into_lemmas)),  # strings to token integer counts\n",
    "   # ('tfidf', TfidfTransformer()),  # integer counts to weighted TF-IDF scores\n",
    "    ('classifier', MultinomialNB()),  # train on TF-IDF vectors w/ Naive Bayes classifier\n",
    "])"
   ]
  },
  {
   "cell_type": "code",
   "execution_count": 446,
   "metadata": {
    "collapsed": false
   },
   "outputs": [
    {
     "name": "stdout",
     "output_type": "stream",
     "text": [
      "[ 0.99143469  0.98494624  0.98922414  0.9762419   0.98695652]\n",
      "0.985760697277 0.00523240748922\n"
     ]
    }
   ],
   "source": [
    "# Selecting data to train\n",
    "import sklearn.cross_validation \n",
    "(str_train, str_test, category_train, category_test) = sklearn.cross_validation.train_test_split(\n",
    "    Exp1['Long_Str'], Exp1['CATEGORY'], test_size=0.2)\n",
    "\n",
    "#Cross validation - accuracy\n",
    "scores = sklearn.cross_validation.cross_val_score(pipeline,  # steps to convert raw messages into models\n",
    "                         str_train,  # training data\n",
    "                         category_train,  # training categories\n",
    "                         cv=5,  # split data randomly into 5 parts: X for training, 1 for scoring\n",
    "                         scoring='accuracy',  # which scoring metric?\n",
    "                         n_jobs=-1,  # -1 = use all cores = faster\n",
    "                         )\n",
    "print scores\n",
    "print scores.mean(), scores.std()"
   ]
  },
  {
   "cell_type": "code",
   "execution_count": 447,
   "metadata": {
    "collapsed": false
   },
   "outputs": [
    {
     "name": "stderr",
     "output_type": "stream",
     "text": [
      "/Users/dianagalarza/anaconda/lib/python2.7/site-packages/sklearn/metrics/classification.py:756: DeprecationWarning: The default `weighted` averaging is deprecated, and from version 0.18, use of precision, recall or F-score with multiclass or multilabel data or pos_label=None will result in an exception. Please set an explicit value for `average`, one of (None, 'micro', 'macro', 'weighted', 'samples'). In cross validation use, for instance, scoring=\"f1_weighted\" instead of scoring=\"f1\".\n",
      "  sample_weight=sample_weight)\n"
     ]
    },
    {
     "name": "stdout",
     "output_type": "stream",
     "text": [
      "('Total desc classified:', 2899)\n",
      "('Score:', 0.97684522179496824)\n",
      "Confusion matrix:\n",
      "[[2506    0    0    0    0    0    0    0   12]\n",
      " [   0    6    6    2    0    0    0    0    0]\n",
      " [   0    4    6    3    0    1    0    0    0]\n",
      " [   0    0    0   68    0    0    0    1    0]\n",
      " [   0    0    0    0   28    0    0    0    0]\n",
      " [   1    1    0    1    1  181    0    1    0]\n",
      " [   2    0    0    1    0    0    1    5    1]\n",
      " [   0    2    3    0    0    2    0   16    0]\n",
      " [   3    0    1    2    3    2    0    2   24]]\n"
     ]
    },
    {
     "name": "stderr",
     "output_type": "stream",
     "text": [
      "/Users/dianagalarza/anaconda/lib/python2.7/site-packages/sklearn/metrics/classification.py:756: DeprecationWarning: The default `weighted` averaging is deprecated, and from version 0.18, use of precision, recall or F-score with multiclass or multilabel data or pos_label=None will result in an exception. Please set an explicit value for `average`, one of (None, 'micro', 'macro', 'weighted', 'samples'). In cross validation use, for instance, scoring=\"f1_weighted\" instead of scoring=\"f1\".\n",
      "  sample_weight=sample_weight)\n"
     ]
    }
   ],
   "source": [
    "# K-Fold cross validation \n",
    "\n",
    "CAT = '210-001'\n",
    "\n",
    "from sklearn.cross_validation import KFold\n",
    "from sklearn.metrics import confusion_matrix, f1_score\n",
    "\n",
    "k_fold = KFold(n=len(Exp2), n_folds=2)\n",
    "scores1 = []\n",
    "confusion = numpy.array([ [0, 0, 0, 0, 0, 0, 0, 0, 0], [0, 0, 0, 0, 0, 0, 0, 0, 0] , [0, 0, 0, 0, 0, 0, 0, 0, 0] , [0, 0, 0, 0, 0, 0, 0, 0, 0] , [0, 0, 0, 0, 0, 0, 0, 0, 0] , [0, 0, 0, 0, 0, 0, 0, 0, 0] , [0, 0, 0, 0, 0, 0, 0, 0, 0] , [0, 0, 0, 0, 0, 0, 0, 0, 0] , [0, 0, 0, 0, 0, 0, 0, 0, 0]  ])\n",
    "for category_train, category_test in k_fold:\n",
    "    str_train = Exp2.iloc[category_train]['Long_Str'].values\n",
    "    train_y = Exp2.iloc[category_train]['CATEGORY'].values\n",
    "\n",
    "    str_test = Exp2.iloc[category_test]['Long_Str'].values\n",
    "    test_y = Exp2.iloc[category_test]['CATEGORY'].values\n",
    "\n",
    "    pipeline.fit(str_train, train_y)\n",
    "    predictions = pipeline.predict(str_test)\n",
    "\n",
    "    confusion += confusion_matrix(test_y, predictions)\n",
    "    score = f1_score(test_y, predictions, pos_label=CAT)\n",
    "    scores1.append(score)\n",
    "\n",
    "print('Total desc classified:', len(Exp2))\n",
    "print('Score:', sum(scores1)/len(scores1))\n",
    "print('Confusion matrix:')\n",
    "print(confusion)"
   ]
  },
  {
   "cell_type": "markdown",
   "metadata": {},
   "source": [
    "### Analysis of results \n",
    "It makes sense that the result is better without normalization, because the description is not Natural Language. The description column is limited to 30 characters which make it almost like a code.  "
   ]
  },
  {
   "cell_type": "code",
   "execution_count": 449,
   "metadata": {
    "collapsed": false
   },
   "outputs": [],
   "source": [
    "%matplotlib inline\n",
    "import matplotlib.pyplot as plt"
   ]
  },
  {
   "cell_type": "code",
   "execution_count": 493,
   "metadata": {
    "collapsed": false,
    "scrolled": false
   },
   "outputs": [
    {
     "data": {
      "text/plain": [
       "<matplotlib.text.Text at 0x11fdf0c10>"
      ]
     },
     "execution_count": 493,
     "metadata": {},
     "output_type": "execute_result"
    },
    {
     "data": {
      "image/png": "[encoded data removed]",
      "text/plain": [
       "<matplotlib.figure.Figure at 0x123177110>"
      ]
     },
     "metadata": {},
     "output_type": "display_data"
    }
   ],
   "source": [
    "plt.matshow(confusion_matrix(test_y,  predictions), cmap=plt.cm.binary , interpolation='nearest')\n",
    "plt.title('confusion matrix')\n",
    "plt.colorbar()\n",
    "plt.ylabel('expected label')\n",
    "plt.xlabel('predicted label')"
   ]
  },
  {
   "cell_type": "markdown",
   "metadata": {},
   "source": [
    "Most records of the data sample are in a single category."
   ]
  },
  {
   "cell_type": "code",
   "execution_count": 592,
   "metadata": {
    "collapsed": false
   },
   "outputs": [
    {
     "name": "stdout",
     "output_type": "stream",
     "text": [
      "             precision    recall  f1-score   support\n",
      "\n",
      "    210-001    0.99763   0.99527   0.99645      1268\n",
      "    210-002    0.36364   1.00000   0.53333         4\n",
      "    210-003    1.00000   0.20000   0.33333        10\n",
      "    210-004    0.87879   0.96667   0.92063        30\n",
      "    210-005    1.00000   1.00000   1.00000        14\n",
      "    210-006    0.97802   0.97802   0.97802        91\n",
      "    210-007    0.00000   0.00000   0.00000         5\n",
      "    210-008    0.64286   0.81818   0.72000        11\n",
      "    210-999    0.63158   0.75000   0.68571        16\n",
      "\n",
      "avg / total    0.98205   0.98068   0.97893      1449\n",
      "\n"
     ]
    }
   ],
   "source": [
    "# This is a better report to understand how accurate was the prediction for each category\n",
    "from sklearn.metrics import classification_report\n",
    "target_names = ['210-001', '210-002', '210-003','210-004','210-005','210-006','210-007','210-008','210-999']\n",
    "print(classification_report(test_y, predictions, target_names=target_names, digits=5))"
   ]
  },
  {
   "cell_type": "markdown",
   "metadata": {},
   "source": [
    "## Some Conclusions\n",
    "\n",
    "I will need to test this classifier with different description strings.  In the previous example, I used a single string concatenating: Account + Supplier + Journal Type + Source + Aux category + Cost Center + Description.  It could be interesting to see how results change when removing some of this columns.\n",
    "\n",
    "It is necesa\n",
    "\n",
    "It could also be interesting to treat each column (account, supplier, etc.) as a different parameter, instead of using the bag-of-word strategy.\n",
    "\n",
    "I found an option to count n-grams instead of single words (kind of counting combination of words), I could try it. However, I need to find additional options to NLP, because my descriptions is not exactly natural language.  In addition, the words used in the description column are in English and Spanish, and sometimes the words are not separated by whitespaces.\n",
    "\n",
    "I also found some variations of Naïve Bayes (like BernoulliNB), I will need to understand these functions better and test the data against them.\n",
    "\n",
    "Finally, I would need to run the classification in different groups. This example was done with only one, Car Expenses. Although it seems like a good result in terms of accuracy, the problem with this data set is that most of the records are in a single category."
   ]
  },
  {
   "cell_type": "code",
   "execution_count": null,
   "metadata": {
    "collapsed": true
   },
   "outputs": [],
   "source": []
  }
 ],
 "metadata": {
  "anaconda-cloud": {},
  "kernelspec": {
   "display_name": "Python [default]",
   "language": "python",
   "name": "python2"
  },
  "language_info": {
   "codemirror_mode": {
    "name": "ipython",
    "version": 2
   },
   "file_extension": ".py",
   "mimetype": "text/x-python",
   "name": "python",
   "nbconvert_exporter": "python",
   "pygments_lexer": "ipython2",
   "version": "2.7.12"
  }
 },
 "nbformat": 4,
 "nbformat_minor": 1
}
