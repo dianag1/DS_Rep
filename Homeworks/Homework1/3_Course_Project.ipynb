{
 "cells": [
  {
   "cell_type": "markdown",
   "metadata": {},
   "source": [
    "## Course Project\n",
    "\n",
    "###### My project ideas fall in two categories:\n",
    "* Insurance:  I have some business knowledge and access to real data. However, I'm concerned about data confidentiality. It would be required that all data is hold and processed in the company's servers and network. I would also require approval for download and installation of any software.  My main concern is that it becomes too difficult to work with all these restrictions.   Additionally, I'm not sure how much of the results I would be able to share.  \n",
    "\n",
    "* Data for social good: I find subjects in this category very interesting, but I would have to start from scratch. It means, I have no business/sector knowledge or data. However, I understand that I could use open data from government sites.\n"
   ]
  },
  {
   "cell_type": "markdown",
   "metadata": {},
   "source": [
    "###### Ideas are ranked from the ones that \"I think I know the problem and data required\" to the ones that \"I just started thinking about\""
   ]
  },
  {
   "cell_type": "markdown",
   "metadata": {},
   "source": [
    "#### Idea 1: Insurance - Predicting losses (claims)\n",
    "\n",
    "* Overview of your idea\n",
    "    * After working for a few years in insurance budgeting, I've seen how difficult and inaccurate is the process of forecasting claims. So far the company is using historical data of claims to calculate a claim rate for product (claims/premiums).  It could be really interesting to see what can be predicted if more variables are used to forecast claims. \n",
    "* What data you will use, and how you will collect it\n",
    "    *  Since this is a problem that actuaries have been working for a long time,  I  would expect to find papers and references on which variables to start using when predicting claims.  I could focus on one or two product and get very detailed policy data to run predictions.\n",
    "* What the outcome is that you are trying to achieve\n",
    "    * I would like to deliver a model for finance people (budgeting unit), so they can use it every time they need to reforecast claims. It cannot be too complex that they cannot understand it or explain variance between forecast and actuals later. \n",
    "* Any ideas of modelling techniques it may involve\n",
    "    * Machine learning. I read it in some papers, but I really don't know :(\n",
    "\n"
   ]
  },
  {
   "cell_type": "markdown",
   "metadata": {
    "collapsed": true
   },
   "source": [
    "#### Idea 2:  Insurance - Product Profitability (across channels, customers and insurance agents)\n",
    "\n",
    "* Overview of your idea\n",
    "    * This is a problem that has been solved using allocations so far. For instance, revenues, commission and claims for a given insurance agent is known, but expenses are always difficult to assign.  At the moment the solution is to allocate expenses proportionally to his/her sales.  It could be interesting to understand what variables explain better the expenses that an insurance agent represents to the company (i.e. his/her \"type\" of customers, renewal rate , underwriting errors, help desk usage, fraud cases, etc.)\n",
    "* What data you will use, and how you will collect it\n",
    "    * Different sources/systems that allow me to get data by agent. \n",
    "* What the outcome is that you are trying to achieve\n",
    "    * It could be a metric, kind of \"rating\",  of the profitability of agents, channels, and customers.\n",
    "* Any ideas of modelling techniques it may involve\n",
    "    * I think this could be a data mining problem"
   ]
  },
  {
   "cell_type": "markdown",
   "metadata": {},
   "source": [
    "#### Idea 3: Insurance -  Customer churn\n",
    "\n",
    "* Overview of your idea\n",
    "    * This is a common problem in many industries. I think this is something that has been done before in the company, but it never has been truly used.  My hypothesis is that it never has been well explained to people to use it. It could be interesting to give it another try.   \n",
    "* What data you will use, and how you will collect it\n",
    "    * I could find what has been done in the company before and find other examples in the insurance sector to predict costumer churn and apply it.\n",
    "* What the outcome is that you are trying to achieve\n",
    "    * Provide sales people with a list of potential customers that will cancel or will not renew their policies.\n",
    "* Any ideas of modelling techniques it may involve\n",
    "    * I have read about Machine learning, but once again I really don't know :(\n",
    "\n"
   ]
  },
  {
   "cell_type": "markdown",
   "metadata": {
    "collapsed": true
   },
   "source": [
    "#### Idea 4: Insurance - Product recommendation\n",
    "\n",
    "* Overview of your idea\n",
    "    * Similarly to previous ideas, this is a popular problem.  I think there will be plenty of material and references to read about this.\n",
    "* What data you will use, and how you will collect it\n",
    "    * This could be the opportunity to use \"unstructured data\" maybe from social networks.\n",
    "* What the outcome is that you are trying to achieve\n",
    "    * Provide sales people with a list of products per customer for cross selling.\n",
    "* Any ideas of modelling techniques it may involve\n",
    "    * No clue"
   ]
  },
  {
   "cell_type": "markdown",
   "metadata": {
    "collapsed": true
   },
   "source": [
    "#### Idea 5: Social Good -  Corruption detection\n",
    "\n",
    "* Overview of your idea\n",
    "    * Learn from models already done for risk score on contracts. There are interesting papers of models that allow institutions like the World Bank to \"predict\" potential frauds. I.e. [Detecting Fraud, Corruption, and Collusion in International Development Contracts](https://dssg.uchicago.edu/wp-content/uploads/2016/12/world_bank_fraud.pdf)\n",
    "* What data you will use, and how you will collect it\n",
    "    * Probably I will have to look for open contracting data from government sites.\n",
    "* What the outcome is that you are trying to achieve\n",
    "    * A preventive tool for government entities to score for contractors and tender participants.\n",
    "* Any ideas of modelling techniques it may involve\n",
    "    * no idea."
   ]
  },
  {
   "cell_type": "code",
   "execution_count": null,
   "metadata": {
    "collapsed": true
   },
   "outputs": [],
   "source": []
  }
 ],
 "metadata": {
  "anaconda-cloud": {},
  "kernelspec": {
   "display_name": "Python [default]",
   "language": "python",
   "name": "python2"
  },
  "language_info": {
   "codemirror_mode": {
    "name": "ipython",
    "version": 2
   },
   "file_extension": ".py",
   "mimetype": "text/x-python",
   "name": "python",
   "nbconvert_exporter": "python",
   "pygments_lexer": "ipython2",
   "version": "2.7.12"
  }
 },
 "nbformat": 4,
 "nbformat_minor": 1
}
