{
 "cells": [
  {
   "cell_type": "markdown",
   "metadata": {},
   "source": [
    "## Weather\n",
    "\n",
    "The Bureau of Meteorology keeps long-term data about rainfall, temperatures and so on. You generate a query,\n",
    "and then you can fetch that same data again for a while before the data is expired.\n",
    "\n",
    "* Go to http://www.bom.gov.au/climate/data\n",
    "* There's a pull down for \"Data about\": choose \"Rainfall\"\n",
    "* Select a weather station: choose Sydney\n",
    "* It will then come up with a list of matching towns: choose Sydney, NSW (the first one in the list)\n",
    "* It will then give a list of the nearest weather stations.\n",
    "* Choose 066062 Sydney Observatory\n",
    "* Select the year 2016\n",
    "* Click on the \"Get Data\" button.\n",
    "* That next page you get will have a URL very similar to this:\n",
    "http://www.bom.gov.au/jsp/ncc/cdio/weatherData/av?p_nccObsCode=136&p_display_type=dailyDataFile&p_startYear=2016&p_c=-872836455&p_stn_num=066062\n",
    "    "
   ]
  },
  {
   "cell_type": "code",
   "execution_count": 2,
   "metadata": {
    "collapsed": true
   },
   "outputs": [],
   "source": [
    "# Use pandas to read the rainfall table from the web (as described in the previous cell). \n",
    "# Ignore the summary statistics.\n",
    "# Select the 'Monthly Total' row and sum it to get a yearly rainfall\n",
    "# (Optional) Create a function that returns the yearly rainfall for a given year. Plot rainfall over time"
   ]
  },
  {
   "cell_type": "markdown",
   "metadata": {},
   "source": [
    "# Yearly rainfall for 2016"
   ]
  },
  {
   "cell_type": "code",
   "execution_count": 158,
   "metadata": {
    "collapsed": false
   },
   "outputs": [
    {
     "name": "stdout",
     "output_type": "stream",
     "text": [
      "Requirement already satisfied (use --upgrade to upgrade): html5lib in /Users/dianagalarza/anaconda/lib/python2.7/site-packages\n",
      "Requirement already satisfied (use --upgrade to upgrade): six in /Users/dianagalarza/anaconda/lib/python2.7/site-packages (from html5lib)\n",
      "Requirement already satisfied (use --upgrade to upgrade): setuptools>=18.5 in /Users/dianagalarza/anaconda/lib/python2.7/site-packages/setuptools-27.2.0-py2.7.egg (from html5lib)\n",
      "Requirement already satisfied (use --upgrade to upgrade): webencodings in /Users/dianagalarza/anaconda/lib/python2.7/site-packages (from html5lib)\n",
      "\u001b[33mYou are using pip version 8.1.2, however version 9.0.1 is available.\n",
      "You should consider upgrading via the 'pip install --upgrade pip' command.\u001b[0m\n",
      "Requirement already satisfied (use --upgrade to upgrade): BeautifulSoup4 in /Users/dianagalarza/anaconda/lib/python2.7/site-packages\n",
      "\u001b[33mYou are using pip version 8.1.2, however version 9.0.1 is available.\n",
      "You should consider upgrading via the 'pip install --upgrade pip' command.\u001b[0m\n"
     ]
    }
   ],
   "source": [
    "import pandas \n",
    "import numpy\n",
    "!pip install html5lib\n",
    "!pip install BeautifulSoup4"
   ]
  },
  {
   "cell_type": "code",
   "execution_count": 159,
   "metadata": {
    "collapsed": false
   },
   "outputs": [],
   "source": [
    "weather_site = pandas.read_html('http://www.bom.gov.au/jsp/ncc/cdio/weatherData/av?p_nccObsCode=136&p_display_type=dailyDataFile&p_startYear=2016&p_c=-872838356&p_stn_num=066062')"
   ]
  },
  {
   "cell_type": "code",
   "execution_count": 160,
   "metadata": {
    "collapsed": false
   },
   "outputs": [
    {
     "data": {
      "text/plain": [
       "34"
      ]
     },
     "execution_count": 160,
     "metadata": {},
     "output_type": "execute_result"
    }
   ],
   "source": [
    "len(weather)"
   ]
  },
  {
   "cell_type": "code",
   "execution_count": 162,
   "metadata": {
    "collapsed": false
   },
   "outputs": [
    {
     "data": {
      "text/html": [
       "<div>\n",
       "<table border=\"1\" class=\"dataframe\">\n",
       "  <thead>\n",
       "    <tr style=\"text-align: right;\">\n",
       "      <th></th>\n",
       "      <th>2016</th>\n",
       "      <th>Jan</th>\n",
       "      <th>Feb</th>\n",
       "      <th>Mar</th>\n",
       "      <th>Apr</th>\n",
       "      <th>May</th>\n",
       "      <th>Jun</th>\n",
       "      <th>Jul</th>\n",
       "      <th>Aug</th>\n",
       "      <th>Sep</th>\n",
       "      <th>Oct</th>\n",
       "      <th>Nov</th>\n",
       "      <th>Dec</th>\n",
       "    </tr>\n",
       "  </thead>\n",
       "  <tbody>\n",
       "    <tr>\n",
       "      <th>29</th>\n",
       "      <td>29th</td>\n",
       "      <td>0.0</td>\n",
       "      <td>0.0</td>\n",
       "      <td>0.0</td>\n",
       "      <td>0.0</td>\n",
       "      <td>2.2</td>\n",
       "      <td>0.2</td>\n",
       "      <td>0.0</td>\n",
       "      <td>0.0</td>\n",
       "      <td>1.4</td>\n",
       "      <td>3.2</td>\n",
       "      <td>0.0</td>\n",
       "      <td>0.0</td>\n",
       "    </tr>\n",
       "    <tr>\n",
       "      <th>30</th>\n",
       "      <td>30th</td>\n",
       "      <td>9.0</td>\n",
       "      <td>NaN</td>\n",
       "      <td>7.0</td>\n",
       "      <td>0.0</td>\n",
       "      <td>0.2</td>\n",
       "      <td>0.0</td>\n",
       "      <td>0.0</td>\n",
       "      <td>0.0</td>\n",
       "      <td>0.4</td>\n",
       "      <td>0.2</td>\n",
       "      <td>0.0</td>\n",
       "      <td>0.0</td>\n",
       "    </tr>\n",
       "    <tr>\n",
       "      <th>31</th>\n",
       "      <td>31st</td>\n",
       "      <td>12.8</td>\n",
       "      <td>NaN</td>\n",
       "      <td>1.2</td>\n",
       "      <td>NaN</td>\n",
       "      <td>0.0</td>\n",
       "      <td>NaN</td>\n",
       "      <td>0.0</td>\n",
       "      <td>0.0</td>\n",
       "      <td>NaN</td>\n",
       "      <td>1.6</td>\n",
       "      <td>NaN</td>\n",
       "      <td>0.0</td>\n",
       "    </tr>\n",
       "    <tr>\n",
       "      <th>32</th>\n",
       "      <td>Highest Daily</td>\n",
       "      <td>51.4</td>\n",
       "      <td>10.8</td>\n",
       "      <td>61.2</td>\n",
       "      <td>94.4</td>\n",
       "      <td>2.8</td>\n",
       "      <td>93.8</td>\n",
       "      <td>29.4</td>\n",
       "      <td>61.0</td>\n",
       "      <td>23.4</td>\n",
       "      <td>11.8</td>\n",
       "      <td>10.2</td>\n",
       "      <td>32.6</td>\n",
       "    </tr>\n",
       "    <tr>\n",
       "      <th>33</th>\n",
       "      <td>Monthly Total</td>\n",
       "      <td>249.8</td>\n",
       "      <td>25.8</td>\n",
       "      <td>193.2</td>\n",
       "      <td>155.0</td>\n",
       "      <td>7.2</td>\n",
       "      <td>305.0</td>\n",
       "      <td>104.6</td>\n",
       "      <td>151.4</td>\n",
       "      <td>70.0</td>\n",
       "      <td>31.4</td>\n",
       "      <td>27.2</td>\n",
       "      <td>65.0</td>\n",
       "    </tr>\n",
       "  </tbody>\n",
       "</table>\n",
       "</div>"
      ],
      "text/plain": [
       "             2016    Jan   Feb    Mar    Apr  May    Jun    Jul    Aug   Sep  \\\n",
       "29           29th    0.0   0.0    0.0    0.0  2.2    0.2    0.0    0.0   1.4   \n",
       "30           30th    9.0   NaN    7.0    0.0  0.2    0.0    0.0    0.0   0.4   \n",
       "31           31st   12.8   NaN    1.2    NaN  0.0    NaN    0.0    0.0   NaN   \n",
       "32  Highest Daily   51.4  10.8   61.2   94.4  2.8   93.8   29.4   61.0  23.4   \n",
       "33  Monthly Total  249.8  25.8  193.2  155.0  7.2  305.0  104.6  151.4  70.0   \n",
       "\n",
       "     Oct   Nov   Dec  \n",
       "29   3.2   0.0   0.0  \n",
       "30   0.2   0.0   0.0  \n",
       "31   1.6   NaN   0.0  \n",
       "32  11.8  10.2  32.6  \n",
       "33  31.4  27.2  65.0  "
      ]
     },
     "execution_count": 162,
     "metadata": {},
     "output_type": "execute_result"
    }
   ],
   "source": [
    "weather = weather_site[0]\n",
    "weather.tail(5)"
   ]
  },
  {
   "cell_type": "code",
   "execution_count": 163,
   "metadata": {
    "collapsed": false
   },
   "outputs": [
    {
     "data": {
      "text/plain": [
       "2016    Monthly Total\n",
       "Jan             249.8\n",
       "Feb              25.8\n",
       "Mar             193.2\n",
       "Apr               155\n",
       "May               7.2\n",
       "Jun               305\n",
       "Jul             104.6\n",
       "Aug             151.4\n",
       "Sep                70\n",
       "Oct              31.4\n",
       "Nov              27.2\n",
       "Dec                65\n",
       "Name: 33, dtype: object"
      ]
     },
     "execution_count": 163,
     "metadata": {},
     "output_type": "execute_result"
    }
   ],
   "source": [
    "Monthly_Total = weather.loc[33]\n",
    "Monthly_Total"
   ]
  },
  {
   "cell_type": "code",
   "execution_count": 164,
   "metadata": {
    "collapsed": false
   },
   "outputs": [
    {
     "data": {
      "text/html": [
       "<div>\n",
       "<table border=\"1\" class=\"dataframe\">\n",
       "  <thead>\n",
       "    <tr style=\"text-align: right;\">\n",
       "      <th></th>\n",
       "      <th>Rainfall</th>\n",
       "    </tr>\n",
       "  </thead>\n",
       "  <tbody>\n",
       "    <tr>\n",
       "      <th>2016</th>\n",
       "      <td>Monthly Total</td>\n",
       "    </tr>\n",
       "    <tr>\n",
       "      <th>Jan</th>\n",
       "      <td>249.8</td>\n",
       "    </tr>\n",
       "    <tr>\n",
       "      <th>Feb</th>\n",
       "      <td>25.8</td>\n",
       "    </tr>\n",
       "    <tr>\n",
       "      <th>Mar</th>\n",
       "      <td>193.2</td>\n",
       "    </tr>\n",
       "    <tr>\n",
       "      <th>Apr</th>\n",
       "      <td>155</td>\n",
       "    </tr>\n",
       "    <tr>\n",
       "      <th>May</th>\n",
       "      <td>7.2</td>\n",
       "    </tr>\n",
       "    <tr>\n",
       "      <th>Jun</th>\n",
       "      <td>305</td>\n",
       "    </tr>\n",
       "    <tr>\n",
       "      <th>Jul</th>\n",
       "      <td>104.6</td>\n",
       "    </tr>\n",
       "    <tr>\n",
       "      <th>Aug</th>\n",
       "      <td>151.4</td>\n",
       "    </tr>\n",
       "    <tr>\n",
       "      <th>Sep</th>\n",
       "      <td>70</td>\n",
       "    </tr>\n",
       "    <tr>\n",
       "      <th>Oct</th>\n",
       "      <td>31.4</td>\n",
       "    </tr>\n",
       "    <tr>\n",
       "      <th>Nov</th>\n",
       "      <td>27.2</td>\n",
       "    </tr>\n",
       "    <tr>\n",
       "      <th>Dec</th>\n",
       "      <td>65</td>\n",
       "    </tr>\n",
       "  </tbody>\n",
       "</table>\n",
       "</div>"
      ],
      "text/plain": [
       "           Rainfall\n",
       "2016  Monthly Total\n",
       "Jan           249.8\n",
       "Feb            25.8\n",
       "Mar           193.2\n",
       "Apr             155\n",
       "May             7.2\n",
       "Jun             305\n",
       "Jul           104.6\n",
       "Aug           151.4\n",
       "Sep              70\n",
       "Oct            31.4\n",
       "Nov            27.2\n",
       "Dec              65"
      ]
     },
     "execution_count": 164,
     "metadata": {},
     "output_type": "execute_result"
    }
   ],
   "source": [
    "\n",
    "Yearly_Rainfall = pandas.DataFrame({'Rainfall': Monthly_Total})\n",
    "Yearly_Rainfall "
   ]
  },
  {
   "cell_type": "code",
   "execution_count": 165,
   "metadata": {
    "collapsed": false
   },
   "outputs": [
    {
     "data": {
      "text/plain": [
       "Rainfall    1385.6\n",
       "dtype: float64"
      ]
     },
     "execution_count": 165,
     "metadata": {},
     "output_type": "execute_result"
    }
   ],
   "source": [
    "Yearly_Rainfall [Yearly_Rainfall.Rainfall <> 'Monthly Total'].sum()"
   ]
  },
  {
   "cell_type": "markdown",
   "metadata": {},
   "source": [
    "# Rainfall for a given year"
   ]
  },
  {
   "cell_type": "code",
   "execution_count": 229,
   "metadata": {
    "collapsed": true
   },
   "outputs": [],
   "source": [
    "# Select year\n",
    "year = '2012'"
   ]
  },
  {
   "cell_type": "code",
   "execution_count": 230,
   "metadata": {
    "collapsed": false
   },
   "outputs": [
    {
     "name": "stdout",
     "output_type": "stream",
     "text": [
      "http://www.bom.gov.au/jsp/ncc/cdio/weatherData/av?p_nccObsCode=136&p_display_type=dailyDataFile&p_startYear=2012&p_c=-872838356&p_stn_num=066062\n"
     ]
    }
   ],
   "source": [
    "URL = 'http://www.bom.gov.au/jsp/ncc/cdio/weatherData/av?p_nccObsCode=136&p_display_type=dailyDataFile&p_startYear={0}'.format(year)+'&p_c=-872838356&p_stn_num=066062'\n",
    "print URL"
   ]
  },
  {
   "cell_type": "code",
   "execution_count": 231,
   "metadata": {
    "collapsed": false
   },
   "outputs": [],
   "source": [
    "weather_site2= pandas.read_html(URL)"
   ]
  },
  {
   "cell_type": "code",
   "execution_count": 232,
   "metadata": {
    "collapsed": false
   },
   "outputs": [
    {
     "data": {
      "text/html": [
       "<div>\n",
       "<table border=\"1\" class=\"dataframe\">\n",
       "  <thead>\n",
       "    <tr style=\"text-align: right;\">\n",
       "      <th></th>\n",
       "      <th>2012</th>\n",
       "      <th>Jan</th>\n",
       "      <th>Feb</th>\n",
       "      <th>Mar</th>\n",
       "      <th>Apr</th>\n",
       "      <th>May</th>\n",
       "      <th>Jun</th>\n",
       "      <th>Jul</th>\n",
       "      <th>Aug</th>\n",
       "      <th>Sep</th>\n",
       "      <th>Oct</th>\n",
       "      <th>Nov</th>\n",
       "      <th>Dec</th>\n",
       "    </tr>\n",
       "  </thead>\n",
       "  <tbody>\n",
       "    <tr>\n",
       "      <th>33</th>\n",
       "      <td>Monthly Total</td>\n",
       "      <td>138.8</td>\n",
       "      <td>111.0</td>\n",
       "      <td>269.8</td>\n",
       "      <td>187.0</td>\n",
       "      <td>37.2</td>\n",
       "      <td>244.2</td>\n",
       "      <td>56.2</td>\n",
       "      <td>19.0</td>\n",
       "      <td>23.8</td>\n",
       "      <td>29.4</td>\n",
       "      <td>52.0</td>\n",
       "      <td>45.2</td>\n",
       "    </tr>\n",
       "  </tbody>\n",
       "</table>\n",
       "</div>"
      ],
      "text/plain": [
       "             2012    Jan    Feb    Mar    Apr   May    Jun   Jul   Aug   Sep  \\\n",
       "33  Monthly Total  138.8  111.0  269.8  187.0  37.2  244.2  56.2  19.0  23.8   \n",
       "\n",
       "     Oct   Nov   Dec  \n",
       "33  29.4  52.0  45.2  "
      ]
     },
     "execution_count": 232,
     "metadata": {},
     "output_type": "execute_result"
    }
   ],
   "source": [
    "weather2 = weather_site2[0]\n",
    "weather2.tail(1)"
   ]
  },
  {
   "cell_type": "code",
   "execution_count": 233,
   "metadata": {
    "collapsed": false
   },
   "outputs": [],
   "source": [
    "Monthly_Total2 = weather2.loc[33]"
   ]
  },
  {
   "cell_type": "code",
   "execution_count": 234,
   "metadata": {
    "collapsed": false
   },
   "outputs": [
    {
     "data": {
      "text/plain": [
       "Rainfall    1213.6\n",
       "dtype: float64"
      ]
     },
     "execution_count": 234,
     "metadata": {},
     "output_type": "execute_result"
    }
   ],
   "source": [
    "Yearly_Rainfall2 = pandas.DataFrame({'Rainfall': Monthly_Total2})\n",
    "Yearly_Rainfall2 [Yearly_Rainfall2.Rainfall <> 'Monthly Total'].sum()"
   ]
  },
  {
   "cell_type": "markdown",
   "metadata": {},
   "source": [
    "# Rainfall for multiple years"
   ]
  },
  {
   "cell_type": "code",
   "execution_count": 320,
   "metadata": {
    "collapsed": false
   },
   "outputs": [
    {
     "name": "stdout",
     "output_type": "stream",
     "text": [
      "          mm\n",
      "date        \n",
      "2010  1153.8\n",
      "2011  1369.2\n",
      "2012  1213.6\n",
      "2013  1344.4\n",
      "2014   897.2\n",
      "2015  1337.2\n",
      "2016  1385.6\n"
     ]
    }
   ],
   "source": [
    "years = [2010,2011,2012,2013,2014,2015,2016]\n",
    "dn = []\n",
    "for year in years:\n",
    "    URL3 = 'http://www.bom.gov.au/jsp/ncc/cdio/weatherData/av?p_nccObsCode=136&p_display_type=dailyDataFile&p_startYear={0}'.format(year)+'&p_c=-872838356&p_stn_num=066062'\n",
    "    weather_site3= pandas.read_html(URL3)\n",
    "    weather3 = weather_site3[0]\n",
    "    Monthly_Total3 = weather3.loc[33]\n",
    "    Yearly_Rainfall3 = pandas.DataFrame({'Rainfall': Monthly_Total3})\n",
    "    Year_data = Yearly_Rainfall3 [Yearly_Rainfall3.Rainfall <> 'Monthly Total'].sum()\n",
    "    Rainfall_Info = pandas.DataFrame({\n",
    "                                            'date':year, 'mm': [Year_data[0]],\n",
    "                       }).set_index ('date')\n",
    "    dn.append(Rainfall_Info)\n",
    "dn = pd.concat(dn)\n",
    "print(dn)"
   ]
  },
  {
   "cell_type": "code",
   "execution_count": 337,
   "metadata": {
    "collapsed": false
   },
   "outputs": [
    {
     "data": {
      "text/plain": [
       "<matplotlib.axes._subplots.AxesSubplot at 0x1163af310>"
      ]
     },
     "execution_count": 337,
     "metadata": {},
     "output_type": "execute_result"
    },
    {
     "data": {
      "image/png": "[encoded data removed]",
      "text/plain": [
       "<matplotlib.figure.Figure at 0x11ae00ed0>"
      ]
     },
     "metadata": {},
     "output_type": "display_data"
    }
   ],
   "source": [
    "import matplotlib.pyplot\n",
    "import seaborn\n",
    "dn.mm.plot.bar()"
   ]
  },
  {
   "cell_type": "code",
   "execution_count": null,
   "metadata": {
    "collapsed": true
   },
   "outputs": [],
   "source": []
  }
 ],
 "metadata": {
  "anaconda-cloud": {},
  "kernelspec": {
   "display_name": "Python [default]",
   "language": "python",
   "name": "python2"
  },
  "language_info": {
   "codemirror_mode": {
    "name": "ipython",
    "version": 2
   },
   "file_extension": ".py",
   "mimetype": "text/x-python",
   "name": "python",
   "nbconvert_exporter": "python",
   "pygments_lexer": "ipython2",
   "version": "2.7.12"
  }
 },
 "nbformat": 4,
 "nbformat_minor": 1
}
