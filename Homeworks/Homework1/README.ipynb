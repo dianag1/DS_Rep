{
 "cells": [
  {
   "cell_type": "markdown",
   "metadata": {},
   "source": [
    "# About the data"
   ]
  },
  {
   "cell_type": "markdown",
   "metadata": {},
   "source": [
    "The original dataset has 38593 records, which is an entire year of expenses.\n",
    "Expenses are divided in 42 groups. Each group has different categories (1 to n). We are trying to predict categories for a given group according to its expense description. Additional columns like account number, supplier, source, and reference might be considered as parameters.\n",
    "The first group to analyse is Car Expenses, which has 2899 records and 9 categories.\n",
    "\n",
    "* GROUP        object  (Car expenses)\n",
    "\n",
    "\n",
    "* ID_ACC        int64  (Account, it is actually a code so it is going to be handled as string)\n",
    "\n",
    "\n",
    "* SUB_GROUP     int64  (It is actually a code so it is going to be handled as string)\n",
    "\n",
    "\n",
    "* ID_SUP       object  (Supplier)\n",
    "\n",
    "\n",
    "* ID_JOU       object  (Type of Journal)\n",
    "\n",
    "\n",
    "* MONTH         int64  (Expense Month)\n",
    "\n",
    "\n",
    "* SOURCE       object  (Source system of the expense: SAP, ORA, etc...)\n",
    "\n",
    "\n",
    "* REF          object  (Transaction reference, it can be a date, a code, a number,...)\n",
    "\n",
    "\n",
    "* DESC         object  (Description, it is a free text of 30 characters maximum)\n",
    "\n",
    "\n",
    "* AUX1         object  (It is a substring of the description. It could be the category, but it is not always correct)\n",
    "\n",
    "\n",
    "* DB           object  (Source database)\n",
    "\n",
    "\n",
    "* ID_CC         int64  (Cost Center, it is actually a code so it is going to be handled as string)\n",
    "\n",
    "\n",
    "* !!! CATEGORY     object  (This is the field to be predicted)\n",
    "\n",
    "\n",
    "* VALUE         int64  (It is the amount of the expense)\n",
    "\n",
    "\n",
    "* COUNT         int64  (It has a value of 1 for each row)\n",
    "\n"
   ]
  },
  {
   "cell_type": "markdown",
   "metadata": {},
   "source": [
    "In the Car Expenses sample dataset are  2 subgroups, 6 accounts, 85 suppliers, 14 sources, 6 journal types, 555 references, 276 descriptions, 13 aux categories, 2 databases, 62 cost centers, and 9 Categories "
   ]
  },
  {
   "cell_type": "markdown",
   "metadata": {},
   "source": [
    "#### Strategy to follow\n",
    "\n",
    "Bag-of-words\n",
    "\n",
    "As a first attempt to classify the expenses in categories, a Bag-of-Words strategy is going to be used. A single \"sentence\" is created using: \n",
    "* Account \n",
    "* Supplier \n",
    "* Journal Type\n",
    "* Source \n",
    "* Aux category \n",
    "* Cost Center \n",
    "* Description\n",
    "\n",
    "The \"sentence\" is going to be used as a parameter to clasify rows into categories using Naïve Bayes Classification"
   ]
  },
  {
   "cell_type": "code",
   "execution_count": null,
   "metadata": {
    "collapsed": true
   },
   "outputs": [],
   "source": []
  }
 ],
 "metadata": {
  "kernelspec": {
   "display_name": "Python [default]",
   "language": "python",
   "name": "python2"
  },
  "language_info": {
   "codemirror_mode": {
    "name": "ipython",
    "version": 2
   },
   "file_extension": ".py",
   "mimetype": "text/x-python",
   "name": "python",
   "nbconvert_exporter": "python",
   "pygments_lexer": "ipython2",
   "version": "2.7.12"
  }
 },
 "nbformat": 4,
 "nbformat_minor": 1
}
