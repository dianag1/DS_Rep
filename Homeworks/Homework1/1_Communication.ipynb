{
 "cells": [
  {
   "cell_type": "markdown",
   "metadata": {},
   "source": [
    "# JONATHAN GOLDMAN \n",
    "![img](https://media.licdn.com/mpr/mpr/shrinknp_200_200/p/3/000/000/055/0a65d8e.jpg)\n",
    "### Director of Data Science and Analytics at Intuit\n",
    "##### How to Build Novel Data Product and Companies\n",
    "\n",
    "In this interview, [Jonathan Goldman](https://www.linkedin.com/in/jgoldman/) reviews his career and the different things that have motivated him along the way.\n",
    "\n",
    "Jonathan background is in Physics. During that time, he was driven by his love for science, in particular math and physics. Once he completed his bachelor degree in [MIT](http://web.mit.edu), he applied for jobs, but he was not excited about the options. Finally, he visited [Stanford](https://www.stanford.edu/) to meet a professor working on quantum computing.  He liked the subject and Stanford, so he went there for a Ph.D. At the end of his Ph.D., he realized research was not as rewarding in the short term as he would have liked. So after 7 years of research, he was sure of what he wanted next: *\"I want to do something that has a little bit more immediate impact\"*.\n",
    "\n",
    "From his Ph.D. years he remembers enjoying the part where he needed to process massive data sets. Also the iteration part, when he processed data, got results, and then processed the data again to gain better insights. He joined [Accenture](https://www.accenture.com) where he could work in real problems in the energy sector. He was able to solve interesting optimization problems using math and analytics while working there.\n",
    "\n",
    "After a while in consulting projects, he felt like doing/learning something more technical. He started looking around and he found [LinkedIn](https://press.linkedin.com/about-linkedin?#).  At the beginning LinkedIn looked like a recruiting platform. It did not seem very exciting, but when he learned about their data and how they were thinking about it, he thought *\"Wow, this is awesome\"*. The problem of helping people find the right career was something that he felt very personal.\n",
    "\n",
    "Among the work done by Jonathan in LinkedIn are known recommendation algorithms like *\"Viewers of this profile also viewed...\"* and *\"People You May Know\"*. Jonathan point out as something remarkable that these products were not part of any roadmap.  These products were experiments. Once his team had data to show that the products were bringing users back to the site, he got all the support to keep working on them. Jonathan highlighted in the interview that this is a good example of the impact data scientists can have to transform business.\n",
    "\n",
    "After LinkedIn, Jonathan worked in his own consulting company.  He and his partners offered full end-to-end data services including:\n",
    "* *What's the business problem you're facing?*\n",
    "* *Where's the place we can have the most impact?*\n",
    "* *What technology might need to be built or deployed?*\n",
    "* *What algorithms and analysis need to be done?*\n",
    "\n",
    "His company was acquired by one of his clients, [Intuit](https://www.intuit.com). He thinks that this is one of the few companies that is really mapping the world's economy. \n",
    "\n",
    "At the end of the interview, Jonathan gives his advice for people pursuing a career in data science:\n",
    "* Learn to be curious. \n",
    "* Find companies that are aligned with your values where you get to work on things that are massive and impactful.\n",
    "* You need to be able to go back and forth in an iterative manner as business don't always have well-defined problems.\n",
    "\n",
    "\n"
   ]
  }
 ],
 "metadata": {
  "anaconda-cloud": {},
  "kernelspec": {
   "display_name": "Python [default]",
   "language": "python",
   "name": "python2"
  },
  "language_info": {
   "codemirror_mode": {
    "name": "ipython",
    "version": 2
   },
   "file_extension": ".py",
   "mimetype": "text/x-python",
   "name": "python",
   "nbconvert_exporter": "python",
   "pygments_lexer": "ipython2",
   "version": "2.7.12"
  }
 },
 "nbformat": 4,
 "nbformat_minor": 1
}
